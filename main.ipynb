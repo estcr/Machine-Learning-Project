{
 "cells": [
  {
   "cell_type": "markdown",
   "metadata": {},
   "source": [
    "# Proyecto de Machine Learning\n",
    "Este notebook contiene el código para un proyecto de Machine Learning que utiliza un dataset de salud para predecir accidentes cerebrovasculares.\n",
    "\n",
    "## Importación de Librerías\n",
    "En esta sección, importaremos todas las librerías necesarias para el proyecto.\n"
   ]
  },
  {
   "cell_type": "code",
   "execution_count": 1,
   "metadata": {},
   "outputs": [],
   "source": [
    "import pandas as pd\n",
    "import numpy as np\n",
    "from sklearn.model_selection import train_test_split\n",
    "from sklearn.preprocessing import StandardScaler\n",
    "from sklearn.linear_model import LogisticRegression\n",
    "from sklearn.metrics import accuracy_score, confusion_matrix, classification_report"
   ]
  },
  {
   "cell_type": "markdown",
   "metadata": {},
   "source": [
    "## Carga de Datos e Inspección\n",
    "\n",
    "En esta sección, cargaremos el dataset y realizaremos una inspección inicial para entender mejor su estructura y contenido.\n",
    "\n",
    "El dataset utilizado en este proyecto fue obtenido de Kaggle y se puede encontrar en el siguiente enlace: [Stroke Prediction Dataset](https://www.kaggle.com/datasets/fedesoriano/stroke-prediction-dataset/data).\n",
    "\n",
    "### Descripción del Dataset\n",
    "\n",
    "El dataset contiene información sobre pacientes y se utiliza para predecir la probabilidad de que un paciente sufra un accidente cerebrovascular. Los accidentes cerebrovasculares son una de las principales causas de muerte y discapacidad en todo el mundo. Este dataset incluye las siguientes características:\n",
    "\n",
    "- `id`: Identificador único del paciente.\n",
    "- `gender`: Género del paciente.\n",
    "- `age`: Edad del paciente.\n",
    "- `hypertension`: 0 si el paciente no tiene hipertensión, 1 si el paciente tiene hipertensión.\n",
    "- `heart_disease`: 0 si el paciente no tiene enfermedades del corazón, 1 si el paciente tiene enfermedades del corazón.\n",
    "- `ever_married`: Si el paciente alguna vez estuvo casado.\n",
    "- `work_type`: Tipo de trabajo del paciente.\n",
    "- `Residence_type`: Tipo de residencia del paciente (urbana o rural).\n",
    "- `avg_glucose_level`: Nivel promedio de glucosa en sangre.\n",
    "- `bmi`: Índice de masa corporal.\n",
    "- `smoking_status`: Estado de fumador del paciente.\n",
    "- `stroke`: 1 si el paciente tuvo un accidente cerebrovascular, 0 en caso contrario.\n",
    "\n",
    "A continuación, cargaremos el dataset y realizaremos una inspección inicial."
   ]
  },
  {
   "cell_type": "code",
   "execution_count": 2,
   "metadata": {},
   "outputs": [],
   "source": [
    "df=pd.read_csv(r\"healthcare-dataset-stroke-data.csv\")"
   ]
  },
  {
   "cell_type": "code",
   "execution_count": 3,
   "metadata": {},
   "outputs": [
    {
     "data": {
      "text/plain": [
       "(5110, 12)"
      ]
     },
     "execution_count": 3,
     "metadata": {},
     "output_type": "execute_result"
    }
   ],
   "source": [
    "df.shape"
   ]
  },
  {
   "cell_type": "code",
   "execution_count": 4,
   "metadata": {},
   "outputs": [
    {
     "data": {
      "text/plain": [
       "id                     int64\n",
       "gender                object\n",
       "age                  float64\n",
       "hypertension           int64\n",
       "heart_disease          int64\n",
       "ever_married          object\n",
       "work_type             object\n",
       "Residence_type        object\n",
       "avg_glucose_level    float64\n",
       "bmi                  float64\n",
       "smoking_status        object\n",
       "stroke                 int64\n",
       "dtype: object"
      ]
     },
     "execution_count": 4,
     "metadata": {},
     "output_type": "execute_result"
    }
   ],
   "source": [
    "df.dtypes"
   ]
  },
  {
   "cell_type": "code",
   "execution_count": 5,
   "metadata": {},
   "outputs": [
    {
     "name": "stdout",
     "output_type": "stream",
     "text": [
      "<class 'pandas.core.frame.DataFrame'>\n",
      "RangeIndex: 5110 entries, 0 to 5109\n",
      "Data columns (total 12 columns):\n",
      " #   Column             Non-Null Count  Dtype  \n",
      "---  ------             --------------  -----  \n",
      " 0   id                 5110 non-null   int64  \n",
      " 1   gender             5110 non-null   object \n",
      " 2   age                5110 non-null   float64\n",
      " 3   hypertension       5110 non-null   int64  \n",
      " 4   heart_disease      5110 non-null   int64  \n",
      " 5   ever_married       5110 non-null   object \n",
      " 6   work_type          5110 non-null   object \n",
      " 7   Residence_type     5110 non-null   object \n",
      " 8   avg_glucose_level  5110 non-null   float64\n",
      " 9   bmi                4909 non-null   float64\n",
      " 10  smoking_status     5110 non-null   object \n",
      " 11  stroke             5110 non-null   int64  \n",
      "dtypes: float64(3), int64(4), object(5)\n",
      "memory usage: 479.2+ KB\n"
     ]
    }
   ],
   "source": [
    "df.info()\n"
   ]
  },
  {
   "cell_type": "code",
   "execution_count": null,
   "metadata": {},
   "outputs": [
    {
     "data": {
      "text/html": [
       "<div>\n",
       "<style scoped>\n",
       "    .dataframe tbody tr th:only-of-type {\n",
       "        vertical-align: middle;\n",
       "    }\n",
       "\n",
       "    .dataframe tbody tr th {\n",
       "        vertical-align: top;\n",
       "    }\n",
       "\n",
       "    .dataframe thead th {\n",
       "        text-align: right;\n",
       "    }\n",
       "</style>\n",
       "<table border=\"1\" class=\"dataframe\">\n",
       "  <thead>\n",
       "    <tr style=\"text-align: right;\">\n",
       "      <th></th>\n",
       "      <th>id</th>\n",
       "      <th>gender</th>\n",
       "      <th>age</th>\n",
       "      <th>hypertension</th>\n",
       "      <th>heart_disease</th>\n",
       "      <th>ever_married</th>\n",
       "      <th>work_type</th>\n",
       "      <th>Residence_type</th>\n",
       "      <th>avg_glucose_level</th>\n",
       "      <th>bmi</th>\n",
       "      <th>smoking_status</th>\n",
       "      <th>stroke</th>\n",
       "    </tr>\n",
       "  </thead>\n",
       "  <tbody>\n",
       "    <tr>\n",
       "      <th>0</th>\n",
       "      <td>9046</td>\n",
       "      <td>Male</td>\n",
       "      <td>67.0</td>\n",
       "      <td>0</td>\n",
       "      <td>1</td>\n",
       "      <td>Yes</td>\n",
       "      <td>Private</td>\n",
       "      <td>Urban</td>\n",
       "      <td>228.69</td>\n",
       "      <td>36.6</td>\n",
       "      <td>formerly smoked</td>\n",
       "      <td>1</td>\n",
       "    </tr>\n",
       "    <tr>\n",
       "      <th>1</th>\n",
       "      <td>51676</td>\n",
       "      <td>Female</td>\n",
       "      <td>61.0</td>\n",
       "      <td>0</td>\n",
       "      <td>0</td>\n",
       "      <td>Yes</td>\n",
       "      <td>Self-employed</td>\n",
       "      <td>Rural</td>\n",
       "      <td>202.21</td>\n",
       "      <td>NaN</td>\n",
       "      <td>never smoked</td>\n",
       "      <td>1</td>\n",
       "    </tr>\n",
       "    <tr>\n",
       "      <th>2</th>\n",
       "      <td>31112</td>\n",
       "      <td>Male</td>\n",
       "      <td>80.0</td>\n",
       "      <td>0</td>\n",
       "      <td>1</td>\n",
       "      <td>Yes</td>\n",
       "      <td>Private</td>\n",
       "      <td>Rural</td>\n",
       "      <td>105.92</td>\n",
       "      <td>32.5</td>\n",
       "      <td>never smoked</td>\n",
       "      <td>1</td>\n",
       "    </tr>\n",
       "    <tr>\n",
       "      <th>3</th>\n",
       "      <td>60182</td>\n",
       "      <td>Female</td>\n",
       "      <td>49.0</td>\n",
       "      <td>0</td>\n",
       "      <td>0</td>\n",
       "      <td>Yes</td>\n",
       "      <td>Private</td>\n",
       "      <td>Urban</td>\n",
       "      <td>171.23</td>\n",
       "      <td>34.4</td>\n",
       "      <td>smokes</td>\n",
       "      <td>1</td>\n",
       "    </tr>\n",
       "    <tr>\n",
       "      <th>4</th>\n",
       "      <td>1665</td>\n",
       "      <td>Female</td>\n",
       "      <td>79.0</td>\n",
       "      <td>1</td>\n",
       "      <td>0</td>\n",
       "      <td>Yes</td>\n",
       "      <td>Self-employed</td>\n",
       "      <td>Rural</td>\n",
       "      <td>174.12</td>\n",
       "      <td>24.0</td>\n",
       "      <td>never smoked</td>\n",
       "      <td>1</td>\n",
       "    </tr>\n",
       "  </tbody>\n",
       "</table>\n",
       "</div>"
      ],
      "text/plain": [
       "      id  gender   age  hypertension  heart_disease ever_married  \\\n",
       "0   9046    Male  67.0             0              1          Yes   \n",
       "1  51676  Female  61.0             0              0          Yes   \n",
       "2  31112    Male  80.0             0              1          Yes   \n",
       "3  60182  Female  49.0             0              0          Yes   \n",
       "4   1665  Female  79.0             1              0          Yes   \n",
       "\n",
       "       work_type Residence_type  avg_glucose_level   bmi   smoking_status  \\\n",
       "0        Private          Urban             228.69  36.6  formerly smoked   \n",
       "1  Self-employed          Rural             202.21   NaN     never smoked   \n",
       "2        Private          Rural             105.92  32.5     never smoked   \n",
       "3        Private          Urban             171.23  34.4           smokes   \n",
       "4  Self-employed          Rural             174.12  24.0     never smoked   \n",
       "\n",
       "   stroke  \n",
       "0       1  \n",
       "1       1  \n",
       "2       1  \n",
       "3       1  \n",
       "4       1  "
      ]
     },
     "execution_count": 6,
     "metadata": {},
     "output_type": "execute_result"
    }
   ],
   "source": [
    "df.head()"
   ]
  },
  {
   "cell_type": "code",
   "execution_count": 7,
   "metadata": {},
   "outputs": [
    {
     "data": {
      "text/plain": [
       "gender\n",
       "Female    2994\n",
       "Male      2115\n",
       "Other        1\n",
       "Name: count, dtype: int64"
      ]
     },
     "execution_count": 7,
     "metadata": {},
     "output_type": "execute_result"
    }
   ],
   "source": [
    "df[\"gender\"].value_counts()"
   ]
  },
  {
   "cell_type": "code",
   "execution_count": 8,
   "metadata": {},
   "outputs": [],
   "source": [
    "# Filtrar el DataFrame eliminando las filas donde gender es 'Other' ya que habia un solo registro con ese valor\n",
    "df = df[df['gender'] != 'Other']"
   ]
  },
  {
   "cell_type": "code",
   "execution_count": 9,
   "metadata": {},
   "outputs": [
    {
     "data": {
      "text/plain": [
       "gender\n",
       "Female    2994\n",
       "Male      2115\n",
       "Name: count, dtype: int64"
      ]
     },
     "execution_count": 9,
     "metadata": {},
     "output_type": "execute_result"
    }
   ],
   "source": [
    "df[\"gender\"].value_counts()"
   ]
  },
  {
   "cell_type": "markdown",
   "metadata": {},
   "source": [
    "### Manejo de Valores Nulos\n",
    "\n",
    "Durante la inspección inicial, observamos que la columna `bmi` contiene valores nulos. Para manejar estos valores nulos, decidimos rellenarlos con la mediana de la columna `bmi`. La mediana es una mejor opción que la media en este caso, ya que la columna `bmi` contiene muchos valores atípicos (outliers) que pueden sesgar la media.\n",
    "\n",
    "A continuación, mostramos los gráficos que justifican esta decisión."
   ]
  },
  {
   "cell_type": "code",
   "execution_count": 10,
   "metadata": {},
   "outputs": [
    {
     "data": {
      "image/png": "[encoded data removed]",
      "text/plain": [
       "<Figure size 640x480 with 1 Axes>"
      ]
     },
     "metadata": {},
     "output_type": "display_data"
    },
    {
     "data": {
      "image/png": "[encoded data removed]",
      "text/plain": [
       "<Figure size 640x480 with 1 Axes>"
      ]
     },
     "metadata": {},
     "output_type": "display_data"
    }
   ],
   "source": [
    "import seaborn as sns\n",
    "import matplotlib.pyplot as plt\n",
    "\n",
    "sns.histplot(df['bmi'], kde=True)\n",
    "plt.title(\"Distribución de BMI\")\n",
    "plt.show()\n",
    "\n",
    "sns.boxplot(df['bmi'])\n",
    "plt.title(\"Boxplot de BMI\")\n",
    "plt.show()"
   ]
  },
  {
   "cell_type": "code",
   "execution_count": 11,
   "metadata": {},
   "outputs": [],
   "source": [
    "df['bmi'] = df['bmi'].fillna(df['bmi'].median())"
   ]
  },
  {
   "cell_type": "code",
   "execution_count": 12,
   "metadata": {},
   "outputs": [],
   "source": [
    "#Se elimina la columna ID ya que no aporta información\n",
    "df = df.drop(columns=['id'])"
   ]
  },
  {
   "cell_type": "code",
   "execution_count": 13,
   "metadata": {},
   "outputs": [
    {
     "name": "stdout",
     "output_type": "stream",
     "text": [
      "gender\n",
      "Female    2994\n",
      "Male      2115\n",
      "Name: count, dtype: int64\n",
      "\n",
      "ever_married\n",
      "Yes    3353\n",
      "No     1756\n",
      "Name: count, dtype: int64\n",
      "\n",
      "work_type\n",
      "Private          2924\n",
      "Self-employed     819\n",
      "children          687\n",
      "Govt_job          657\n",
      "Never_worked       22\n",
      "Name: count, dtype: int64\n",
      "\n",
      "Residence_type\n",
      "Urban    2596\n",
      "Rural    2513\n",
      "Name: count, dtype: int64\n",
      "\n",
      "smoking_status\n",
      "never smoked       1892\n",
      "Unknown            1544\n",
      "formerly smoked     884\n",
      "smokes              789\n",
      "Name: count, dtype: int64\n",
      "\n"
     ]
    },
    {
     "name": "stderr",
     "output_type": "stream",
     "text": [
      "C:\\Users\\est_c\\AppData\\Local\\Temp\\ipykernel_25472\\3937133999.py:15: FutureWarning: Downcasting behavior in `replace` is deprecated and will be removed in a future version. To retain the old behavior, explicitly call `result.infer_objects(copy=False)`. To opt-in to the future behavior, set `pd.set_option('future.no_silent_downcasting', True)`\n",
      "  df['gender'] = df['gender'].replace({'Male': 1, 'Female': 0})\n",
      "C:\\Users\\est_c\\AppData\\Local\\Temp\\ipykernel_25472\\3937133999.py:18: FutureWarning: Downcasting behavior in `replace` is deprecated and will be removed in a future version. To retain the old behavior, explicitly call `result.infer_objects(copy=False)`. To opt-in to the future behavior, set `pd.set_option('future.no_silent_downcasting', True)`\n",
      "  df['ever_married'] = df['ever_married'].replace({'Yes': 1, 'No': 0})\n"
     ]
    }
   ],
   "source": [
    "# Separar columnas categóricas y numéricas\n",
    "# En esta sección, separamos las columnas categóricas y numéricas.\n",
    "# Las columnas 'heart_disease' e 'hypertension' no se consideran categóricas porque son booleanas.\n",
    "categorical = ['gender', 'ever_married', 'work_type', 'Residence_type', 'smoking_status']\n",
    "numerical = ['age', 'avg_glucose_level', 'bmi']\n",
    "\n",
    "#value counts de las columnas seleccionada en la variable categorical\n",
    "for col in categorical:\n",
    "    print(df[col].value_counts())\n",
    "    print()\n",
    "\n",
    "categorical_sin_booleanas = ['work_type', 'Residence_type', 'smoking_status']\n",
    "\n",
    "#Gender rename para female=0 y para male =1\n",
    "df['gender'] = df['gender'].replace({'Male': 1, 'Female': 0})\n",
    "\n",
    "#ever married para Yes = 1 y para No = 0   \n",
    "df['ever_married'] = df['ever_married'].replace({'Yes': 1, 'No': 0})\n",
    "\n",
    "# Aplicar one-hot encoding solo a las columnas categóricas\n",
    "# Utilizamos one-hot encoding para convertir las variables categóricas en variables dummy.\n",
    "# Esto es necesario para que los algoritmos de machine learning puedan procesar estas variables.\n",
    "df = pd.get_dummies(df, columns=categorical_sin_booleanas, drop_first=True)\n",
    "\n"
   ]
  },
  {
   "cell_type": "markdown",
   "metadata": {},
   "source": [
    "## División de Datos: Train-Test Split\n",
    "\n",
    "En esta sección, dividiremos los datos en conjuntos de entrenamiento y prueba.\n",
    "\n",
    "Primero, separamos las características (features) de la variable objetivo (target). La variable objetivo en este caso es `stroke`, que indica si el paciente ha tenido un accidente cerebrovascular.\n",
    "\n",
    "A continuación, utilizamos la función `train_test_split` de `sklearn` para dividir los datos en conjuntos de entrenamiento y prueba. Usamos un 80% de los datos para el entrenamiento y un 20% para la prueba. Además, utilizamos el parámetro `stratify` para asegurar que la proporción de clases en los conjuntos de entrenamiento y prueba sea similar a la del dataset original."
   ]
  },
  {
   "cell_type": "code",
   "execution_count": 14,
   "metadata": {},
   "outputs": [
    {
     "data": {
      "text/plain": [
       "Index(['gender', 'age', 'hypertension', 'heart_disease', 'ever_married',\n",
       "       'avg_glucose_level', 'bmi', 'stroke', 'work_type_Never_worked',\n",
       "       'work_type_Private', 'work_type_Self-employed', 'work_type_children',\n",
       "       'Residence_type_Urban', 'smoking_status_formerly smoked',\n",
       "       'smoking_status_never smoked', 'smoking_status_smokes'],\n",
       "      dtype='object')"
      ]
     },
     "execution_count": 14,
     "metadata": {},
     "output_type": "execute_result"
    }
   ],
   "source": [
    "# Mostrar las columnas del DataFrame\n",
    "df.columns"
   ]
  },
  {
   "cell_type": "code",
   "execution_count": 15,
   "metadata": {},
   "outputs": [],
   "source": [
    "# Separar las características (features) de la variable objetivo (target)\n",
    "# La variable objetivo es 'stroke'\n",
    "features = df.drop(columns=[\"stroke\"])\n",
    "target = df[\"stroke\"]\n",
    "\n",
    "# Dividir los datos en conjuntos de entrenamiento y prueba\n",
    "# Usamos un 80% de los datos para el entrenamiento y un 20% para la prueba\n",
    "from sklearn.model_selection import train_test_split\n",
    "\n",
    "X_train, X_test, y_train, y_test = train_test_split(features, target, test_size=0.2, random_state=42, stratify=target)"
   ]
  },
  {
   "cell_type": "markdown",
   "metadata": {},
   "source": [
    "## Manejo del Desbalanceo de Clases: Oversampling\n",
    "\n",
    "En esta sección, abordaremos el desbalanceo de clases en la variable objetivo `stroke`. El desbalanceo de clases puede afectar negativamente el rendimiento del modelo, ya que los modelos de Machine Learning tienden a estar sesgados hacia la clase mayoritaria.\n",
    "\n",
    "Primero, mostramos el desbalanceo de clases en el conjunto de entrenamiento.\n",
    "\n"
   ]
  },
  {
   "cell_type": "code",
   "execution_count": 16,
   "metadata": {},
   "outputs": [
    {
     "name": "stdout",
     "output_type": "stream",
     "text": [
      "stroke\n",
      "0    3888\n",
      "1     199\n",
      "Name: count, dtype: int64\n"
     ]
    }
   ],
   "source": [
    "\n",
    "# Mostrar el desbalanceo de clases en el conjunto de entrenamiento\n",
    "print(y_train.value_counts())"
   ]
  },
  {
   "cell_type": "markdown",
   "metadata": {},
   "source": [
    "Para manejar este desbalanceo, utilizamos la técnica de oversampling. Esta técnica consiste en aumentar el número de muestras de la clase minoritaria replicando aleatoriamente sus ejemplos hasta que ambas clases tengan el mismo número de muestras.\n",
    "\n",
    "A continuación, realizamos el oversampling de la clase minoritaria.\n",
    "\n"
   ]
  },
  {
   "cell_type": "code",
   "execution_count": 17,
   "metadata": {},
   "outputs": [
    {
     "name": "stdout",
     "output_type": "stream",
     "text": [
      "Clase 1 (stroke): (199, 16)\n",
      "Clase 0 (no stroke): (3888, 16)\n",
      "Tamaño de la clase minoritaria después del oversampling: stroke\n",
      "1    3888\n",
      "0    3888\n",
      "Name: count, dtype: int64\n"
     ]
    }
   ],
   "source": [
    "# Agregar la columna 'stroke' a X_train para facilitar el oversampling\n",
    "X_train[\"stroke\"] = y_train\n",
    "\n",
    "# Separar las clases mayoritaria y minoritaria\n",
    "stroke1 = X_train[X_train[\"stroke\"] == 1]\n",
    "stroke0 = X_train[X_train[\"stroke\"] == 0]\n",
    "\n",
    "# Mostrar el tamaño de cada clase antes del oversampling\n",
    "print(\"Clase 1 (stroke):\", stroke1.shape)\n",
    "print(\"Clase 0 (no stroke):\", stroke0.shape)\n",
    "\n",
    "# Realizar el oversampling de la clase minoritaria\n",
    "from sklearn.utils import resample\n",
    "\n",
    "stroke1_oversampling = resample(stroke1, \n",
    "                                replace=True, \n",
    "                                n_samples=len(stroke0), \n",
    "                                random_state=0)\n",
    "\n",
    "# Combinar las clases mayoritaria y minoritaria después del oversampling\n",
    "X_train = pd.concat([stroke1_oversampling, stroke0])\n",
    "\n",
    "# Separar las características (features) de la variable objetivo (target) después del oversampling\n",
    "y_train = X_train[\"stroke\"]\n",
    "X_train = X_train.drop(columns=[\"stroke\"])\n",
    "\n",
    "# Mostrar el tamaño de la clase minoritaria después del oversampling\n",
    "print(\"Tamaño de la clase minoritaria después del oversampling:\", y_train.value_counts())"
   ]
  },
  {
   "cell_type": "markdown",
   "metadata": {},
   "source": [
    "## Scaling\n",
    "\n",
    "En esta sección, escalaremos las características utilizando `StandardScaler`. Esto es importante para los modelos de regresión logística, ya que asegura que todas las características contribuyan de manera similar al modelo.\n",
    "\n",
    "El escalado transforma las características para que tengan una media de 0 y una desviación estándar de 1."
   ]
  },
  {
   "cell_type": "code",
   "execution_count": 18,
   "metadata": {},
   "outputs": [],
   "source": [
    "from sklearn.preprocessing import StandardScaler\n",
    "\n",
    "# Inicializar el escalador\n",
    "scaler = StandardScaler()\n",
    "\n",
    "# Ajustar y transformar los datos de entrenamiento\n",
    "X_train = scaler.fit_transform(X_train)\n",
    "\n",
    "# Transformar los datos de prueba\n",
    "X_test = scaler.transform(X_test)"
   ]
  },
  {
   "cell_type": "markdown",
   "metadata": {},
   "source": [
    "## Guardar el Scaler\n",
    "\n",
    "Para asegurar la reproducibilidad y facilitar el despliegue del modelo, guardaremos el escalador en un archivo `.pkl`. Esto nos permitirá reutilizar el mismo escalador para transformar nuevos datos de manera consistente."
   ]
  },
  {
   "cell_type": "code",
   "execution_count": 19,
   "metadata": {},
   "outputs": [
    {
     "data": {
      "text/plain": [
       "['scaler.pkl']"
      ]
     },
     "execution_count": 19,
     "metadata": {},
     "output_type": "execute_result"
    }
   ],
   "source": [
    "import joblib\n",
    "\n",
    "# Guardar el escalador en un archivo .pkl\n",
    "joblib.dump(scaler, \"scaler.pkl\")"
   ]
  },
  {
   "cell_type": "markdown",
   "metadata": {},
   "source": [
    "## Entrenamiento y Evaluación del Modelo K-Nearest Neighbors (KNN)\n",
    "\n",
    "En esta sección, entrenaremos un modelo K-Nearest Neighbors (KNN) para predecir la variable objetivo `stroke`.\n",
    "\n",
    "KNN es sensible a los outliers, lo que puede afectar negativamente su rendimiento. Por esta razón, es importante escalar las características antes de entrenar el modelo.\n",
    "\n",
    "A continuación, entrenamos el modelo KNN utilizando los datos escalados y evaluamos su rendimiento."
   ]
  },
  {
   "cell_type": "code",
   "execution_count": 20,
   "metadata": {},
   "outputs": [
    {
     "name": "stdout",
     "output_type": "stream",
     "text": [
      "Fitting 5 folds for each of 50 candidates, totalling 250 fits\n",
      "Mejores parámetros (RandomizedSearchCV): {'metric': 'euclidean', 'n_neighbors': 2, 'weights': 'distance'}\n",
      "Accuracy: 0.9168297455968689\n",
      "\n",
      "Classification Report:\n",
      "               precision    recall  f1-score   support\n",
      "\n",
      "           0       0.95      0.96      0.96       972\n",
      "           1       0.11      0.10      0.11        50\n",
      "\n",
      "    accuracy                           0.92      1022\n",
      "   macro avg       0.53      0.53      0.53      1022\n",
      "weighted avg       0.91      0.92      0.91      1022\n",
      "\n",
      "\n",
      "Confusion Matrix:\n",
      " [[932  40]\n",
      " [ 45   5]]\n"
     ]
    }
   ],
   "source": [
    "from sklearn.neighbors import KNeighborsClassifier\n",
    "from sklearn.model_selection import RandomizedSearchCV\n",
    "from sklearn.metrics import accuracy_score, classification_report, confusion_matrix\n",
    "from scipy.stats import randint\n",
    "\n",
    "# Crear el modelo KNN\n",
    "knn = KNeighborsClassifier()\n",
    "\n",
    "# Definir la distribución de parámetros para la búsqueda de hiperparámetros\n",
    "param_distributions = {\n",
    "    'n_neighbors': randint(low=1, high=50),\n",
    "    'weights': ['uniform', 'distance'],\n",
    "    'metric': ['euclidean', 'manhattan', 'minkowski']\n",
    "}\n",
    "\n",
    "# Realizar la búsqueda de hiperparámetros con RandomizedSearchCV\n",
    "random_search_knn_oversampling = RandomizedSearchCV(\n",
    "    estimator=knn,                   # Tu modelo base\n",
    "    param_distributions=param_distributions,\n",
    "    n_iter=50,                       # Número de combinaciones a probar\n",
    "    cv=5,                            # Número de folds en la validación cruzada\n",
    "    scoring='f1',                    # Métrica a optimizar\n",
    "    n_jobs=-1,                       # Usar todos los núcleos disponibles\n",
    "    random_state=42,                 # Para reproducibilidad\n",
    "    verbose=2                        # Para ver el progreso\n",
    ")\n",
    "\n",
    "# Ajustar el modelo con los datos de entrenamiento balanceados con oversampling\n",
    "random_search_knn_oversampling.fit(X_train, y_train)\n",
    "\n",
    "# Imprimir los mejores parámetros encontrados\n",
    "print(\"Mejores parámetros (RandomizedSearchCV):\", random_search_knn_oversampling.best_params_)\n",
    "\n",
    "# Entrenar el modelo KNN con los mejores parámetros\n",
    "best_knn_oversampling = random_search_knn_oversampling.best_estimator_\n",
    "\n",
    "# Realizar predicciones con el modelo entrenado en los datos de prueba\n",
    "y_pred_knn_oversampling = best_knn_oversampling.predict(X_test)\n",
    "\n",
    "# Calcular precisión y otros resultados\n",
    "print(\"Accuracy:\", accuracy_score(y_test, y_pred_knn_oversampling))\n",
    "print(\"\\nClassification Report:\\n\", classification_report(y_test, y_pred_knn_oversampling))\n",
    "print(\"\\nConfusion Matrix:\\n\", confusion_matrix(y_test, y_pred_knn_oversampling))\n",
    "\n"
   ]
  },
  {
   "cell_type": "markdown",
   "metadata": {},
   "source": [
    "## Análisis de Resultados - K-Nearest Neighbors (KNN) con Oversampling\n",
    "\n",
    "El modelo K-Nearest Neighbors (KNN) con oversampling obtuvo una precisión general de 91%. Sin embargo, el rendimiento en la clase minoritaria (Stroke) fue bajo, con un F1-Score de 0.11. Esto indica que el modelo tiene dificultades para predecir correctamente la clase minoritaria, ya que el F1-Score es una métrica que considera tanto la precisión como el recall, y un valor bajo sugiere que el modelo no está equilibrando bien estas dos métricas para la clase minoritaria."
   ]
  },
  {
   "cell_type": "markdown",
   "metadata": {},
   "source": [
    "## Entrenamiento y Evaluación del Modelo de Regresión Logística con Oversampling\n",
    "\n",
    "En esta sección, entrenaremos y evaluaremos un modelo de Regresión Logística utilizando los datos balanceados con oversampling. También realizaremos una búsqueda de hiperparámetros utilizando `RandomizedSearchCV` para encontrar los mejores parámetros para nuestro modelo."
   ]
  },
  {
   "cell_type": "code",
   "execution_count": 21,
   "metadata": {},
   "outputs": [
    {
     "name": "stdout",
     "output_type": "stream",
     "text": [
      "Fitting 5 folds for each of 50 candidates, totalling 250 fits\n",
      "Mejores parámetros (RandomizedSearchCV): {'C': 0.0031150633640573133, 'penalty': 'l2'}\n",
      "Accuracy: 0.7211350293542075\n",
      "\n",
      "Classification Report:\n",
      "               precision    recall  f1-score   support\n",
      "\n",
      "           0       0.99      0.72      0.83       972\n",
      "           1       0.13      0.80      0.22        50\n",
      "\n",
      "    accuracy                           0.72      1022\n",
      "   macro avg       0.56      0.76      0.52      1022\n",
      "weighted avg       0.94      0.72      0.80      1022\n",
      "\n",
      "\n",
      "Confusion Matrix:\n",
      " [[697 275]\n",
      " [ 10  40]]\n"
     ]
    }
   ],
   "source": [
    "from sklearn.linear_model import LogisticRegression\n",
    "from sklearn.model_selection import RandomizedSearchCV\n",
    "from sklearn.metrics import accuracy_score, classification_report, confusion_matrix\n",
    "from scipy.stats import uniform\n",
    "\n",
    "# Crear el modelo de Regresión Logística\n",
    "log_reg = LogisticRegression(solver='liblinear', random_state=42)\n",
    "\n",
    "# Definir la distribución de parámetros para la búsqueda de hiperparámetros\n",
    "param_distributions = {\n",
    "    'C': uniform(loc=0, scale=4),  # Regularización\n",
    "    'penalty': ['l1', 'l2']        # Tipo de penalización\n",
    "}\n",
    "\n",
    "# Realizar la búsqueda de hiperparámetros con RandomizedSearchCV\n",
    "random_search_log_reg_oversampling = RandomizedSearchCV(\n",
    "    estimator=log_reg,               # Tu modelo base\n",
    "    param_distributions=param_distributions,\n",
    "    n_iter=50,                       # Número de combinaciones a probar\n",
    "    cv=5,                            # Número de folds en la validación cruzada\n",
    "    scoring='f1',                    # Métrica a optimizar\n",
    "    n_jobs=-1,                       # Usar todos los núcleos disponibles\n",
    "    random_state=42,                 # Para reproducibilidad\n",
    "    verbose=2                        # Para ver el progreso\n",
    ")\n",
    "\n",
    "# Ajustar el modelo con los datos de entrenamiento balanceados con oversampling\n",
    "random_search_log_reg_oversampling.fit(X_train, y_train)\n",
    "\n",
    "# Imprimir los mejores parámetros encontrados\n",
    "print(\"Mejores parámetros (RandomizedSearchCV):\", random_search_log_reg_oversampling.best_params_)\n",
    "\n",
    "# Entrenar el modelo de Regresión Logística con los mejores parámetros\n",
    "best_log_reg_oversampling = random_search_log_reg_oversampling.best_estimator_\n",
    "\n",
    "# Realizar predicciones con el modelo entrenado en los datos de prueba\n",
    "y_pred_log_reg_oversampling = best_log_reg_oversampling.predict(X_test)\n",
    "\n",
    "# Calcular precisión y otros resultados\n",
    "print(\"Accuracy:\", accuracy_score(y_test, y_pred_log_reg_oversampling))\n",
    "print(\"\\nClassification Report:\\n\", classification_report(y_test, y_pred_log_reg_oversampling))\n",
    "print(\"\\nConfusion Matrix:\\n\", confusion_matrix(y_test, y_pred_log_reg_oversampling))"
   ]
  },
  {
   "cell_type": "markdown",
   "metadata": {},
   "source": [
    "## Análisis de Resultados - Regresión Logística con Oversampling\n",
    "\n",
    "El modelo de Regresión Logística con oversampling obtuvo una precisión general de 72.11%. Sin embargo, el rendimiento en la clase minoritaria (Stroke) fue bajo, con un F1-Score de 0.22. Esto indica que el modelo tiene dificultades para predecir correctamente la clase minoritaria, ya que el F1-Score es una métrica que considera tanto la precisión como el recall, y un valor bajo sugiere que el modelo no está equilibrando bien estas dos métricas para la clase minoritaria."
   ]
  },
  {
   "cell_type": "markdown",
   "metadata": {},
   "source": [
    "## Entrenamiento y Evaluación del Modelo Random Forest\n",
    "\n",
    "En esta sección, entrenaremos un modelo Random Forest para predecir la variable objetivo `stroke`.\n",
    "\n",
    "También realizaremos una búsqueda de hiperparámetros utilizando `RandomizedSearchCV` para encontrar los mejores parámetros para nuestro modelo.\n",
    "\n",
    "A continuación, entrenamos el modelo Random Forest utilizando los datos escalados y evaluamos su rendimiento."
   ]
  },
  {
   "cell_type": "code",
   "execution_count": 22,
   "metadata": {},
   "outputs": [
    {
     "name": "stdout",
     "output_type": "stream",
     "text": [
      "Fitting 5 folds for each of 50 candidates, totalling 250 fits\n",
      "Mejores parámetros: {'max_depth': 24, 'n_estimators': 287}\n",
      "Accuracy: 0.9422700587084148\n",
      "              precision    recall  f1-score   support\n",
      "\n",
      "           0       0.95      0.99      0.97       972\n",
      "           1       0.00      0.00      0.00        50\n",
      "\n",
      "    accuracy                           0.94      1022\n",
      "   macro avg       0.48      0.50      0.49      1022\n",
      "weighted avg       0.90      0.94      0.92      1022\n",
      "\n"
     ]
    }
   ],
   "source": [
    "from sklearn.ensemble import RandomForestClassifier\n",
    "from sklearn.model_selection import RandomizedSearchCV\n",
    "from sklearn.metrics import classification_report, accuracy_score\n",
    "from scipy.stats import randint\n",
    "\n",
    "# Inicializar el modelo Random Forest\n",
    "rf = RandomForestClassifier()\n",
    "\n",
    "# Definir la distribución de parámetros para la búsqueda de hiperparámetros\n",
    "param_distributions = {\n",
    "    'n_estimators': randint(low=100, high=300),\n",
    "    'max_depth': randint(low=10, high=30)\n",
    "}\n",
    "\n",
    "# Realizar la búsqueda de hiperparámetros con RandomizedSearchCV\n",
    "random_search_rf_oversampling = RandomizedSearchCV(\n",
    "    estimator=rf,                    # Tu modelo base\n",
    "    param_distributions=param_distributions,\n",
    "    n_iter=50,                       # Número de combinaciones a probar\n",
    "    cv=5,                            # Número de folds en la validación cruzada\n",
    "    scoring='f1',                    # Métrica a optimizar\n",
    "    n_jobs=-1,                       # Usar todos los núcleos disponibles\n",
    "    random_state=42,                 # Para reproducibilidad\n",
    "    verbose=2                        # Para ver el progreso\n",
    ")\n",
    "\n",
    "# Ajustar el modelo con los datos de entrenamiento\n",
    "random_search_rf_oversampling.fit(X_train, y_train)\n",
    "\n",
    "# Imprimir los mejores parámetros encontrados\n",
    "print(\"Mejores parámetros:\", random_search_rf_oversampling.best_params_)\n",
    "\n",
    "# Entrenar el modelo Random Forest con los mejores parámetros\n",
    "best_rf = random_search_rf_oversampling.best_estimator_\n",
    "\n",
    "# Predecir con el modelo entrenado en los datos de prueba escalados\n",
    "y_pred_rf_oversampling = best_rf.predict(X_test)\n",
    "\n",
    "# Calcular precisión y otros resultados\n",
    "print(\"Accuracy:\", accuracy_score(y_test, y_pred_rf_oversampling))\n",
    "print(classification_report(y_test, y_pred_rf_oversampling))"
   ]
  },
  {
   "cell_type": "markdown",
   "metadata": {},
   "source": [
    "## Análisis de Resultados - Random Forest con Oversampling\n",
    "\n",
    "El modelo Random Forest con oversampling obtuvo una precisión general de 94.52%. Sin embargo, el rendimiento en la clase minoritaria (Stroke) fue bajo, con un F1-Score de 0.0. Esto indica que el modelo tiene dificultades para predecir correctamente la clase minoritaria, ya que el F1-Score es una métrica que considera tanto la precisión como el recall, y un valor bajo sugiere que el modelo no está equilibrando bien estas dos métricas para la clase minoritaria."
   ]
  },
  {
   "cell_type": "markdown",
   "metadata": {},
   "source": [
    "## Entrenamiento y Evaluación del Modelo XGBoost\n",
    "\n",
    "En esta sección, entrenaremos un modelo XGBoost para predecir la variable objetivo `stroke`. XGBoost.\n",
    "\n",
    "También realizaremos una búsqueda de hiperparámetros utilizando `RandomizedSearchCV` para encontrar los mejores parámetros para nuestro modelo.\n",
    "\n",
    "A continuación, entrenamos el modelo XGBoost utilizando los datos escalados y evaluamos su rendimiento."
   ]
  },
  {
   "cell_type": "code",
   "execution_count": 23,
   "metadata": {},
   "outputs": [
    {
     "name": "stdout",
     "output_type": "stream",
     "text": [
      "Fitting 5 folds for each of 50 candidates, totalling 250 fits\n",
      "Mejores parámetros: {'learning_rate': 0.17327236865873835, 'max_depth': 24, 'n_estimators': 289}\n",
      "Accuracy con mejores parámetros: 0.9266144814090019\n",
      "\n",
      "Classification Report con mejores parámetros:\n",
      "               precision    recall  f1-score   support\n",
      "\n",
      "           0       0.95      0.97      0.96       972\n",
      "           1       0.14      0.10      0.12        50\n",
      "\n",
      "    accuracy                           0.93      1022\n",
      "   macro avg       0.55      0.53      0.54      1022\n",
      "weighted avg       0.91      0.93      0.92      1022\n",
      "\n",
      "\n",
      "Confusion Matrix con mejores parámetros:\n",
      " [[942  30]\n",
      " [ 45   5]]\n"
     ]
    }
   ],
   "source": [
    "import xgboost as xgb\n",
    "from sklearn.metrics import accuracy_score, classification_report, confusion_matrix\n",
    "from sklearn.model_selection import RandomizedSearchCV\n",
    "from scipy.stats import randint, uniform\n",
    "\n",
    "# Crear el clasificador XGBoost\n",
    "xgb_reg = xgb.XGBClassifier()  # para tareas de clasificación binaria\n",
    "\n",
    "# Definir la distribución de parámetros para la búsqueda de hiperparámetros\n",
    "param_distributions = {\n",
    "    'n_estimators': randint(low=100, high=300),\n",
    "    'max_depth': randint(low=10, high=30),\n",
    "    'learning_rate': uniform(0.1, 0.2)\n",
    "}\n",
    "\n",
    "# Realizar la búsqueda de hiperparámetros con RandomizedSearchCV\n",
    "random_search_xgb_oversampling = RandomizedSearchCV(\n",
    "    estimator=xgb_reg,               # Tu modelo base\n",
    "    param_distributions=param_distributions,\n",
    "    n_iter=50,                       # Número de combinaciones a probar\n",
    "    cv=5,                            # Número de folds en la validación cruzada\n",
    "    scoring='f1',                    # Métrica a optimizar\n",
    "    n_jobs=-1,                       # Usar todos los núcleos disponibles\n",
    "    random_state=42,                 # Para reproducibilidad\n",
    "    verbose=2                        # Para ver el progreso\n",
    ")\n",
    "\n",
    "# Ajustar el modelo con los datos de entrenamiento\n",
    "random_search_xgb_oversampling.fit(X_train, y_train)\n",
    "\n",
    "# Imprimir los mejores parámetros encontrados\n",
    "print(\"Mejores parámetros:\", random_search_xgb_oversampling.best_params_)\n",
    "\n",
    "# Entrenar el modelo XGBoost con los mejores parámetros\n",
    "best_xgb = random_search_xgb_oversampling.best_estimator_\n",
    "\n",
    "# Realizar predicciones con el modelo entrenado en los datos de prueba escalados\n",
    "y_pred_xgb_oversampling = best_xgb.predict(X_test)\n",
    "\n",
    "# Calcular métricas de clasificación con el mejor modelo\n",
    "print(\"Accuracy con mejores parámetros:\", accuracy_score(y_test, y_pred_xgb_oversampling))\n",
    "print(\"\\nClassification Report con mejores parámetros:\\n\", classification_report(y_test, y_pred_xgb_oversampling))\n",
    "print(\"\\nConfusion Matrix con mejores parámetros:\\n\", confusion_matrix(y_test, y_pred_xgb_oversampling))"
   ]
  },
  {
   "cell_type": "markdown",
   "metadata": {},
   "source": [
    "## Análisis de Resultados - XGBoost con Oversampling\n",
    "\n",
    "El modelo XGBoost con oversampling obtuvo una precisión general de 92.66%. Sin embargo, el rendimiento en la clase minoritaria (Stroke) fue bajo, con un F1-Score de 0.12. Esto indica que el modelo tiene dificultades para predecir correctamente la clase minoritaria, ya que el F1-Score es una métrica que considera tanto la precisión como el recall, y un valor bajo sugiere que el modelo no está equilibrando bien estas dos métricas para la clase minoritaria."
   ]
  },
  {
   "cell_type": "markdown",
   "metadata": {},
   "source": [
    "## Entrenamiento y Evaluación del Modelo Decision Tree con Oversampling\n",
    "\n",
    "En esta sección, entrenaremos y evaluaremos un modelo Decision Tree utilizando los datos balanceados con oversampling. También realizaremos una búsqueda de hiperparámetros utilizando `RandomizedSearchCV` para encontrar los mejores parámetros para nuestro modelo."
   ]
  },
  {
   "cell_type": "code",
   "execution_count": 24,
   "metadata": {},
   "outputs": [
    {
     "name": "stdout",
     "output_type": "stream",
     "text": [
      "Fitting 5 folds for each of 20 candidates, totalling 100 fits\n",
      "Mejores parámetros (RandomizedSearchCV): {'max_depth': 23, 'min_samples_leaf': 3, 'min_samples_split': 6}\n",
      "Accuracy: 0.9119373776908023\n",
      "\n",
      "Classification Report:\n",
      "               precision    recall  f1-score   support\n",
      "\n",
      "           0       0.96      0.95      0.95       972\n",
      "           1       0.17      0.20      0.18        50\n",
      "\n",
      "    accuracy                           0.91      1022\n",
      "   macro avg       0.56      0.57      0.57      1022\n",
      "weighted avg       0.92      0.91      0.92      1022\n",
      "\n",
      "\n",
      "Confusion Matrix:\n",
      " [[922  50]\n",
      " [ 40  10]]\n"
     ]
    }
   ],
   "source": [
    "from sklearn.tree import DecisionTreeClassifier\n",
    "from sklearn.model_selection import RandomizedSearchCV\n",
    "from sklearn.metrics import accuracy_score, classification_report, confusion_matrix\n",
    "from scipy.stats import randint\n",
    "\n",
    "# Crear el modelo Decision Tree\n",
    "dt = DecisionTreeClassifier(random_state=42)\n",
    "\n",
    "# Definir la distribución de parámetros para la búsqueda de hiperparámetros\n",
    "param_distributions = {\n",
    "    'max_depth': randint(low=1, high=30),\n",
    "    'min_samples_split': randint(low=2, high=20),\n",
    "    'min_samples_leaf': randint(low=1, high=20)\n",
    "}\n",
    "\n",
    "# Realizar la búsqueda de hiperparámetros con RandomizedSearchCV\n",
    "random_search_dt_oversampling = RandomizedSearchCV(\n",
    "    estimator=dt,                    # Tu modelo base\n",
    "    param_distributions=param_distributions,\n",
    "    n_iter=20,                       # Número de combinaciones a probar\n",
    "    cv=5,                            # Número de folds en la validación cruzada\n",
    "    scoring='f1',                    # Métrica a optimizar\n",
    "    n_jobs=-1,                       # Usar todos los núcleos disponibles\n",
    "    random_state=42,                 # Para reproducibilidad\n",
    "    verbose=2                        # Para ver el progreso\n",
    ")\n",
    "\n",
    "# Ajustar el modelo con los datos de entrenamiento balanceados con oversampling\n",
    "random_search_dt_oversampling.fit(X_train, y_train)\n",
    "\n",
    "# Imprimir los mejores parámetros encontrados\n",
    "print(\"Mejores parámetros (RandomizedSearchCV):\", random_search_dt_oversampling.best_params_)\n",
    "\n",
    "# Entrenar el modelo Decision Tree con los mejores parámetros\n",
    "best_dt_oversampling = random_search_dt_oversampling.best_estimator_\n",
    "\n",
    "# Realizar predicciones con el modelo entrenado en los datos de prueba\n",
    "y_pred_dt_oversampling = best_dt_oversampling.predict(X_test)\n",
    "\n",
    "# Calcular precisión y otros resultados\n",
    "print(\"Accuracy:\", accuracy_score(y_test, y_pred_dt_oversampling))\n",
    "print(\"\\nClassification Report:\\n\", classification_report(y_test, y_pred_dt_oversampling))\n",
    "print(\"\\nConfusion Matrix:\\n\", confusion_matrix(y_test, y_pred_dt_oversampling))"
   ]
  },
  {
   "cell_type": "markdown",
   "metadata": {},
   "source": [
    "## Análisis de Resultados - Decision Tree con Oversampling\n",
    "\n",
    "El modelo Decision Tree con oversampling obtuvo una precisión general de 91.19%. Sin embargo, el rendimiento en la clase minoritaria (Stroke) fue bajo, con un F1-Score de 0.18. Esto indica que el modelo tiene dificultades para predecir correctamente la clase minoritaria, ya que el F1-Score es una métrica que considera tanto la precisión como el recall, y un valor bajo sugiere que el modelo no está equilibrando bien estas dos métricas para la clase minoritaria."
   ]
  },
  {
   "cell_type": "markdown",
   "metadata": {},
   "source": [
    "## Conclusión de los 4 Modelos Utilizados con Oversampling y Scaling\n",
    "\n",
    "Aunque los modelos mostraron un buen rendimiento general, su capacidad para predecir la clase minoritaria (Stroke) fue limitada. Esto se refleja en la baja precisión, recall y F1-score para la clase 1 (Stroke) en todos los modelos evaluados.\n",
    "\n",
    "### Próximo Paso\n",
    "\n",
    "Para mejorar el rendimiento en la clase minoritaria, se pueden considerar las siguientes estrategias:\n",
    "- **Ajustar el umbral de decisión**: Modificar el umbral de probabilidad para clasificar una instancia como clase 1.\n",
    "- **Técnicas de balanceo de clases**: Utilizar técnicas como SMOTE (Synthetic Minority Over-sampling Technique) para generar más ejemplos sintéticos de la clase minoritaria.\n",
    "\n",
    "En resumen, aunque los modelos evaluados tienen un buen rendimiento general, es necesario abordar el desbalanceo de clases para mejorar la predicción de la clase minoritaria (Stroke). El próximo paso será aplicar SMOTE para mejorar el rendimiento en la clase minoritaria."
   ]
  },
  {
   "cell_type": "markdown",
   "metadata": {},
   "source": [
    "## Aplicación de SMOTE y Escalado\n",
    "\n",
    "En esta sección, aplicaremos SMOTE (Synthetic Minority Over-sampling Technique) para balancear las clases en el conjunto de entrenamiento. SMOTE genera ejemplos sintéticos de la clase minoritaria para equilibrar la proporción de clases.\n",
    "\n",
    "Después de aplicar SMOTE, escalaremos los datos utilizando `MinMaxScaler` para asegurar que todas las características estén en la misma escala.\n",
    "\n",
    "A continuación, mostramos el código para aplicar SMOTE y escalar los datos."
   ]
  },
  {
   "cell_type": "code",
   "execution_count": 25,
   "metadata": {},
   "outputs": [],
   "source": [
    "from sklearn.model_selection import train_test_split\n",
    "from sklearn.preprocessing import MinMaxScaler\n",
    "from imblearn.over_sampling import SMOTE\n",
    "\n",
    "# Dividir los datos en conjuntos de entrenamiento y prueba\n",
    "X_trainsmote, X_testsmote, y_trainsmote, y_testsmote = train_test_split(features, target, test_size=0.20, stratify=target, random_state=42)\n",
    "\n",
    "# Agregar la columna 'stroke' a X_trainsmote para facilitar el oversampling\n",
    "X_trainsmote[\"stroke\"] = y_trainsmote\n",
    "\n",
    "# Separar las clases mayoritaria y minoritaria\n",
    "strokesm1 = X_trainsmote[X_trainsmote[\"stroke\"] == 1]\n",
    "strokesm2 = X_trainsmote[X_trainsmote[\"stroke\"] == 0]\n",
    "\n",
    "# Combinar las clases mayoritaria y minoritaria en un solo DataFrame\n",
    "strokesm_combined = pd.concat([strokesm1, strokesm2])\n",
    "\n",
    "# Separar características y objetivo\n",
    "X = strokesm_combined.drop(columns=['stroke'])\n",
    "y = strokesm_combined['stroke']\n",
    "\n",
    "# Aplicar SMOTE para balancear las clases en el conjunto de entrenamiento\n",
    "smote = SMOTE(random_state=42)\n",
    "X_resampled, y_resampled = smote.fit_resample(X, y)\n",
    "\n",
    "# Escalar los datos utilizando MinMaxScaler\n",
    "scaler = MinMaxScaler()\n",
    "X_train_scaled = scaler.fit_transform(X_resampled)\n",
    "X_test_scaled = scaler.transform(X_testsmote)\n",
    "\n",
    "# Asignar los datos escalados a las variables de entrenamiento y prueba\n",
    "X_trainsmote = X_train_scaled\n",
    "y_trainsmote = y_resampled\n",
    "X_testsmote = X_test_scaled"
   ]
  },
  {
   "cell_type": "code",
   "execution_count": 26,
   "metadata": {},
   "outputs": [
    {
     "data": {
      "image/png": "[encoded data removed]",
      "text/plain": [
       "<Figure size 640x480 with 1 Axes>"
      ]
     },
     "metadata": {},
     "output_type": "display_data"
    }
   ],
   "source": [
    "# Check the new distribution of the target variable\n",
    "y_resampled.value_counts().plot(kind=\"bar\")\n",
    "plt.title(\"Distribution of 'Stroke' after SMOTE\")\n",
    "plt.show()\n",
    "\n"
   ]
  },
  {
   "cell_type": "markdown",
   "metadata": {},
   "source": [
    "## Entrenamiento y Evaluación del Modelo K-Nearest Neighbors (KNN) con SMOTE\n",
    "\n",
    "En esta sección, entrenaremos y evaluaremos un modelo K-Nearest Neighbors (KNN) utilizando los datos balanceados con SMOTE. También realizaremos una búsqueda de hiperparámetros utilizando `RandomizedSearchCV` para encontrar los mejores parámetros para nuestro modelo."
   ]
  },
  {
   "cell_type": "code",
   "execution_count": 27,
   "metadata": {},
   "outputs": [
    {
     "name": "stdout",
     "output_type": "stream",
     "text": [
      "Fitting 5 folds for each of 50 candidates, totalling 250 fits\n",
      "Mejores parámetros (RandomizedSearchCV): {'metric': 'euclidean', 'n_neighbors': 2, 'weights': 'distance'}\n",
      "Accuracy: 0.8864970645792564\n",
      "\n",
      "Classification Report:\n",
      "               precision    recall  f1-score   support\n",
      "\n",
      "           0       0.96      0.92      0.94       972\n",
      "           1       0.11      0.18      0.13        50\n",
      "\n",
      "    accuracy                           0.89      1022\n",
      "   macro avg       0.53      0.55      0.54      1022\n",
      "weighted avg       0.91      0.89      0.90      1022\n",
      "\n",
      "\n",
      "Confusion Matrix:\n",
      " [[897  75]\n",
      " [ 41   9]]\n"
     ]
    }
   ],
   "source": [
    "from sklearn.neighbors import KNeighborsClassifier\n",
    "from sklearn.model_selection import RandomizedSearchCV\n",
    "from sklearn.metrics import accuracy_score, classification_report, confusion_matrix\n",
    "from scipy.stats import randint\n",
    "\n",
    "# Crear el modelo KNN\n",
    "knn = KNeighborsClassifier()\n",
    "\n",
    "# Definir la distribución de parámetros para la búsqueda de hiperparámetros\n",
    "param_distributions = {\n",
    "    'n_neighbors': randint(low=1, high=50),\n",
    "    'weights': ['uniform', 'distance'],\n",
    "    'metric': ['euclidean', 'manhattan', 'minkowski']\n",
    "}\n",
    "\n",
    "# Realizar la búsqueda de hiperparámetros con RandomizedSearchCV\n",
    "random_search_knn_smote = RandomizedSearchCV(\n",
    "    estimator=knn,                   # Tu modelo base\n",
    "    param_distributions=param_distributions,\n",
    "    n_iter=50,                       # Número de combinaciones a probar\n",
    "    cv=5,                            # Número de folds en la validación cruzada\n",
    "    scoring='f1',                    # Métrica a optimizar\n",
    "    n_jobs=-1,                       # Usar todos los núcleos disponibles\n",
    "    random_state=42,                 # Para reproducibilidad\n",
    "    verbose=2                        # Para ver el progreso\n",
    ")\n",
    "\n",
    "# Ajustar el modelo con los datos de entrenamiento balanceados con SMOTE\n",
    "random_search_knn_smote.fit(X_trainsmote, y_trainsmote)\n",
    "\n",
    "# Imprimir los mejores parámetros encontrados\n",
    "print(\"Mejores parámetros (RandomizedSearchCV):\", random_search_knn_smote.best_params_)\n",
    "\n",
    "# Entrenar el modelo KNN con los mejores parámetros\n",
    "best_knn_smote = random_search_knn_smote.best_estimator_\n",
    "\n",
    "# Realizar predicciones con el modelo entrenado en los datos de prueba\n",
    "y_pred_knn_smote = best_knn_smote.predict(X_testsmote)\n",
    "\n",
    "# Calcular precisión y otros resultados\n",
    "print(\"Accuracy:\", accuracy_score(y_testsmote, y_pred_knn_smote))\n",
    "print(\"\\nClassification Report:\\n\", classification_report(y_testsmote, y_pred_knn_smote))\n",
    "print(\"\\nConfusion Matrix:\\n\", confusion_matrix(y_testsmote, y_pred_knn_smote))"
   ]
  },
  {
   "cell_type": "markdown",
   "metadata": {},
   "source": [
    "## Análisis de Resultados - K-Nearest Neighbors (KNN) con SMOTE\n",
    "\n",
    "El modelo K-Nearest Neighbors (KNN) con SMOTE obtuvo una precisión general de 88.64%. Sin embargo, el rendimiento en la clase minoritaria (Stroke) fue bajo, con un F1-Score de 0.13. Esto indica que el modelo tiene dificultades para predecir correctamente la clase minoritaria, ya que el F1-Score es una métrica que considera tanto la precisión como el recall, y un valor bajo sugiere que el modelo no está equilibrando bien estas dos métricas para la clase minoritaria."
   ]
  },
  {
   "cell_type": "markdown",
   "metadata": {},
   "source": [
    "## Entrenamiento y Evaluación del Modelo de Regresión Logística con SMOTE\n",
    "\n",
    "En esta sección, entrenaremos y evaluaremos un modelo de Regresión Logística utilizando los datos balanceados con SMOTE. También realizaremos una búsqueda de hiperparámetros utilizando `RandomizedSearchCV` para encontrar los mejores parámetros para nuestro modelo.o de Regresión Logística utilizando los datos escalados y balanceados con SMOTE, y evaluamos su rendimiento."
   ]
  },
  {
   "cell_type": "code",
   "execution_count": 28,
   "metadata": {},
   "outputs": [
    {
     "name": "stdout",
     "output_type": "stream",
     "text": [
      "Fitting 5 folds for each of 20 candidates, totalling 100 fits\n",
      "Mejores parámetros (RandomizedSearchCV): {'C': 1.8670515729919197, 'penalty': 'l2', 'solver': 'lbfgs'}\n",
      "Accuracy: 0.8444227005870841\n",
      "\n",
      "Classification Report:\n",
      "               precision    recall  f1-score   support\n",
      "\n",
      "           0       0.97      0.86      0.91       972\n",
      "           1       0.17      0.54      0.25        50\n",
      "\n",
      "    accuracy                           0.84      1022\n",
      "   macro avg       0.57      0.70      0.58      1022\n",
      "weighted avg       0.93      0.84      0.88      1022\n",
      "\n",
      "\n",
      "Confusion Matrix:\n",
      " [[836 136]\n",
      " [ 23  27]]\n"
     ]
    }
   ],
   "source": [
    "from sklearn.linear_model import LogisticRegression\n",
    "from sklearn.model_selection import RandomizedSearchCV\n",
    "from sklearn.metrics import accuracy_score, classification_report, confusion_matrix\n",
    "from scipy.stats import uniform\n",
    "\n",
    "# Crear el modelo de Regresión Logística\n",
    "log_reg = LogisticRegression(max_iter=1000, random_state=42)\n",
    "\n",
    "# Definir la distribución de parámetros para la búsqueda de hiperparámetros\n",
    "param_distributions = {\n",
    "    'C': uniform(loc=0, scale=4),  # Regularización\n",
    "    'penalty': ['l2'],             # Tipo de penalización compatible con lbfgs\n",
    "    'solver': ['lbfgs', 'liblinear']  # Solvers compatibles con l2\n",
    "}\n",
    "\n",
    "# Realizar la búsqueda de hiperparámetros con RandomizedSearchCV\n",
    "random_search_log_reg_smote = RandomizedSearchCV(\n",
    "    estimator=log_reg,               # Tu modelo base\n",
    "    param_distributions=param_distributions,\n",
    "    n_iter=20,                       # Número de combinaciones a probar\n",
    "    cv=5,                            # Número de folds en la validación cruzada\n",
    "    scoring='f1',                    # Métrica a optimizar\n",
    "    n_jobs=-1,                       # Usar todos los núcleos disponibles\n",
    "    random_state=42,                 # Para reproducibilidad\n",
    "    verbose=2                        # Para ver el progreso\n",
    ")\n",
    "\n",
    "# Ajustar el modelo con los datos de entrenamiento balanceados con SMOTE\n",
    "random_search_log_reg_smote.fit(X_trainsmote, y_trainsmote)\n",
    "\n",
    "# Imprimir los mejores parámetros encontrados\n",
    "print(\"Mejores parámetros (RandomizedSearchCV):\", random_search_log_reg_smote.best_params_)\n",
    "\n",
    "# Entrenar el modelo de Regresión Logística con los mejores parámetros\n",
    "best_log_reg_smote = random_search_log_reg_smote.best_estimator_\n",
    "\n",
    "# Realizar predicciones con el modelo entrenado en los datos de prueba\n",
    "y_pred_log_reg_smote = best_log_reg_smote.predict(X_testsmote)\n",
    "\n",
    "# Calcular precisión y otros resultados\n",
    "print(\"Accuracy:\", accuracy_score(y_testsmote, y_pred_log_reg_smote))\n",
    "print(\"\\nClassification Report:\\n\", classification_report(y_testsmote, y_pred_log_reg_smote))\n",
    "print(\"\\nConfusion Matrix:\\n\", confusion_matrix(y_testsmote, y_pred_log_reg_smote))"
   ]
  },
  {
   "cell_type": "markdown",
   "metadata": {},
   "source": [
    "## Análisis de Resultados - Regresión Logística con SMOTE\n",
    "\n",
    "El modelo de Regresión Logística con SMOTE obtuvo una precisión general de 84.44%. Sin embargo, el rendimiento en la clase minoritaria (Stroke) fue bajo, con un F1-Score de 0.25. Esto indica que el modelo tiene dificultades para predecir correctamente la clase minoritaria, ya que el F1-Score es una métrica que considera tanto la precisión como el recall, y un valor bajo sugiere que el modelo no está equilibrando bien estas dos métricas para la clase minoritaria."
   ]
  },
  {
   "cell_type": "markdown",
   "metadata": {},
   "source": [
    "## Entrenamiento y Evaluación del Modelo XGBoost\n",
    "\n",
    "En esta sección, entrenaremos y evaluaremos un modelo XGBoost utilizando los datos escalados y balanceados con SMOTE. También realizaremos una búsqueda de hiperparámetros utilizando `GridSearchCV` y `RandomizedSearchCV` para encontrar los mejores parámetros para nuestro modelo."
   ]
  },
  {
   "cell_type": "code",
   "execution_count": 29,
   "metadata": {},
   "outputs": [
    {
     "name": "stdout",
     "output_type": "stream",
     "text": [
      "Fitting 5 folds for each of 50 candidates, totalling 250 fits\n",
      "Mejores parámetros (RandomizedSearchCV): {'learning_rate': 0.1898901348276407, 'max_depth': 10, 'n_estimators': 147}\n",
      "Accuracy: 0.9207436399217221\n",
      "              precision    recall  f1-score   support\n",
      "\n",
      "           0       0.96      0.96      0.96       972\n",
      "           1       0.17      0.16      0.16        50\n",
      "\n",
      "    accuracy                           0.92      1022\n",
      "   macro avg       0.56      0.56      0.56      1022\n",
      "weighted avg       0.92      0.92      0.92      1022\n",
      "\n"
     ]
    }
   ],
   "source": [
    "import xgboost as xgb\n",
    "from sklearn.metrics import accuracy_score, classification_report, confusion_matrix\n",
    "from sklearn.model_selection import RandomizedSearchCV\n",
    "from scipy.stats import randint, uniform\n",
    "\n",
    "# Crear el clasificador XGBoost\n",
    "xgb_cla = xgb.XGBClassifier()  \n",
    "\n",
    "\n",
    "# Definir la distribución de parámetros para la búsqueda de hiperparámetros\n",
    "param_distributions = {\n",
    "    'n_estimators': randint(low=100, high=300),\n",
    "    'max_depth': randint(low=10, high=30),\n",
    "    'learning_rate': uniform(0.1, 0.2),\n",
    "}\n",
    "\n",
    "# Realizar la búsqueda de hiperparámetros con RandomizedSearchCV\n",
    "random_search_xgb_smote = RandomizedSearchCV(\n",
    "    estimator=xgb_cla,               # Tu modelo base\n",
    "    param_distributions=param_distributions,\n",
    "    n_iter=50,                       # Número de combinaciones a probar\n",
    "    cv=5,                            # Número de folds en la validación cruzada\n",
    "    scoring='f1',                    # Métrica a optimizar\n",
    "    n_jobs=-1,                       # Usar todos los núcleos disponibles\n",
    "    random_state=42,                 # Para reproducibilidad\n",
    "    verbose=2                        # Para ver el progreso\n",
    ")\n",
    "\n",
    "# Ajustar el modelo con los datos de entrenamiento\n",
    "random_search_xgb_smote.fit(X_trainsmote, y_trainsmote)\n",
    "print(\"Mejores parámetros (RandomizedSearchCV):\", random_search_xgb_smote.best_params_)\n",
    "\n",
    "# Predecir con el modelo entrenado con los mejores parámetros\n",
    "y_pred_xgb_smote = random_search_xgb_smote.predict(X_testsmote)\n",
    "\n",
    "# Calcular precisión y otros resultados\n",
    "print(\"Accuracy:\", accuracy_score(y_testsmote, y_pred_xgb_smote))\n",
    "print(classification_report(y_testsmote, y_pred_xgb_smote))"
   ]
  },
  {
   "cell_type": "markdown",
   "metadata": {},
   "source": [
    "## Análisis de Resultados - XGBoost con SMOTE\n",
    "\n",
    "El modelo XGBoost con SMOTE obtuvo una precisión general de 92.07%. Sin embargo, el rendimiento en la clase minoritaria (Stroke) fue bajo, con un F1-Score de 0.16. Esto indica que el modelo tiene dificultades para predecir correctamente la clase minoritaria, ya que el F1-Score es una métrica que considera tanto la precisión como el recall, y un valor bajo sugiere que el modelo no está equilibrando bien estas dos métricas para la clase minoritaria."
   ]
  },
  {
   "cell_type": "markdown",
   "metadata": {},
   "source": [
    "## Entrenamiento y Evaluación del Modelo Random Forest con SMOTE\n",
    "\n",
    "En esta sección, entrenaremos y evaluaremos un modelo Random Forest utilizando los datos escalados y balanceados con SMOTE. También realizaremos una búsqueda de hiperparámetros utilizando `GridSearchCV` y `RandomizedSearchCV` para encontrar los mejores parámetros para nuestro modelo."
   ]
  },
  {
   "cell_type": "code",
   "execution_count": 30,
   "metadata": {},
   "outputs": [
    {
     "name": "stdout",
     "output_type": "stream",
     "text": [
      "Fitting 5 folds for each of 50 candidates, totalling 250 fits\n",
      "Mejores parámetros (RandomizedSearchCV): {'max_depth': 20, 'n_estimators': 180}\n",
      "Accuracy: 0.913894324853229\n",
      "              precision    recall  f1-score   support\n",
      "\n",
      "           0       0.95      0.95      0.95       972\n",
      "           1       0.12      0.12      0.12        50\n",
      "\n",
      "    accuracy                           0.91      1022\n",
      "   macro avg       0.54      0.54      0.54      1022\n",
      "weighted avg       0.91      0.91      0.91      1022\n",
      "\n"
     ]
    }
   ],
   "source": [
    "from sklearn.ensemble import RandomForestClassifier\n",
    "from sklearn.model_selection import RandomizedSearchCV\n",
    "from scipy.stats import randint\n",
    "from sklearn.metrics import classification_report, accuracy_score\n",
    "\n",
    "# Crear el modelo Random Forest con parámetros iniciales\n",
    "rf = RandomForestClassifier()\n",
    "\n",
    "# Definir la distribución de parámetros para la búsqueda de hiperparámetros con RandomizedSearchCV\n",
    "param_distribs = {\n",
    "    'n_estimators': randint(low=100, high=300),\n",
    "    'max_depth': randint(low=10, high=30)\n",
    "}\n",
    "\n",
    "# Realizar la búsqueda de hiperparámetros con RandomizedSearchCV\n",
    "random_search_rf_smote = RandomizedSearchCV(\n",
    "    estimator=rf,                    # Tu modelo base\n",
    "    param_distributions=param_distribs,\n",
    "    n_iter=50,                       # Número de combinaciones a probar\n",
    "    cv=5,                            # Número de folds en la validación cruzada\n",
    "    scoring='f1',                    # Métrica a optimizar\n",
    "    n_jobs=-1,                       # Usar todos los núcleos disponibles\n",
    "    random_state=42,                 # Para reproducibilidad\n",
    "    verbose=2                        # Para ver el progreso\n",
    ")\n",
    "\n",
    "# Ajustar el modelo con los datos de entrenamiento\n",
    "random_search_rf_smote.fit(X_trainsmote, y_trainsmote)\n",
    "\n",
    "# Imprimir los mejores parámetros encontrados\n",
    "print(\"Mejores parámetros (RandomizedSearchCV):\", random_search_rf_smote.best_params_)\n",
    "\n",
    "# Entrenar el modelo Random Forest con los mejores parámetros\n",
    "best_rf = random_search_rf_smote.best_estimator_\n",
    "\n",
    "# Predecir con el modelo entrenado en los datos de prueba escalados\n",
    "y_pred_rf_smote = best_rf.predict(X_testsmote)\n",
    "\n",
    "# Calcular precisión y otros resultados\n",
    "print(\"Accuracy:\", accuracy_score(y_testsmote, y_pred_rf_smote))\n",
    "print(classification_report(y_testsmote, y_pred_rf_smote))"
   ]
  },
  {
   "cell_type": "markdown",
   "metadata": {},
   "source": [
    "## Análisis de Resultados - Random Forest con SMOTE\n",
    "\n",
    "El modelo Random Forest con SMOTE obtuvo una precisión general de 91.38%. Sin embargo, el rendimiento en la clase minoritaria (Stroke) fue bajo, con un F1-Score de 0.12. Esto indica que el modelo tiene dificultades para predecir correctamente la clase minoritaria, ya que el F1-Score es una métrica que considera tanto la precisión como el recall, y un valor bajo sugiere que el modelo no está equilibrando bien estas dos métricas para la clase minoritaria."
   ]
  },
  {
   "cell_type": "markdown",
   "metadata": {},
   "source": [
    "## Entrenamiento y Evaluación del Modelo Decision Tree con SMOTE\n",
    "\n",
    "En esta sección, entrenaremos y evaluaremos un modelo Decision Tree utilizando los datos balanceados con SMOTE. También realizaremos una búsqueda de hiperparámetros utilizando `RandomizedSearchCV` para encontrar los mejores parámetros para nuestro modelo."
   ]
  },
  {
   "cell_type": "code",
   "execution_count": 31,
   "metadata": {},
   "outputs": [
    {
     "name": "stdout",
     "output_type": "stream",
     "text": [
      "Fitting 5 folds for each of 50 candidates, totalling 250 fits\n",
      "Mejores parámetros (RandomizedSearchCV): {'max_depth': 24, 'min_samples_leaf': 3, 'min_samples_split': 3}\n",
      "Accuracy: 0.8776908023483366\n",
      "\n",
      "Classification Report:\n",
      "               precision    recall  f1-score   support\n",
      "\n",
      "           0       0.95      0.91      0.93       972\n",
      "           1       0.09      0.16      0.11        50\n",
      "\n",
      "    accuracy                           0.88      1022\n",
      "   macro avg       0.52      0.54      0.52      1022\n",
      "weighted avg       0.91      0.88      0.89      1022\n",
      "\n",
      "\n",
      "Confusion Matrix:\n",
      " [[889  83]\n",
      " [ 42   8]]\n"
     ]
    }
   ],
   "source": [
    "from sklearn.tree import DecisionTreeClassifier\n",
    "from sklearn.model_selection import RandomizedSearchCV\n",
    "from sklearn.metrics import accuracy_score, classification_report, confusion_matrix\n",
    "from scipy.stats import randint\n",
    "\n",
    "# Crear el modelo Decision Tree\n",
    "dt = DecisionTreeClassifier(random_state=42)\n",
    "\n",
    "# Definir la distribución de parámetros para la búsqueda de hiperparámetros\n",
    "param_distributions = {\n",
    "    'max_depth': randint(low=1, high=30),\n",
    "    'min_samples_split': randint(low=2, high=20),\n",
    "    'min_samples_leaf': randint(low=1, high=20)\n",
    "}\n",
    "\n",
    "# Realizar la búsqueda de hiperparámetros con RandomizedSearchCV\n",
    "random_search_dt_smote = RandomizedSearchCV(\n",
    "    estimator=dt,                    # Tu modelo base\n",
    "    param_distributions=param_distributions,\n",
    "    n_iter=50,                       # Número de combinaciones a probar\n",
    "    cv=5,                            # Número de folds en la validación cruzada\n",
    "    scoring='f1',                    # Métrica a optimizar\n",
    "    n_jobs=-1,                       # Usar todos los núcleos disponibles\n",
    "    random_state=42,                 # Para reproducibilidad\n",
    "    verbose=2                        # Para ver el progreso\n",
    ")\n",
    "\n",
    "# Ajustar el modelo con los datos de entrenamiento balanceados con SMOTE\n",
    "random_search_dt_smote.fit(X_trainsmote, y_trainsmote)\n",
    "\n",
    "# Imprimir los mejores parámetros encontrados\n",
    "print(\"Mejores parámetros (RandomizedSearchCV):\", random_search_dt_smote.best_params_)\n",
    "\n",
    "# Entrenar el modelo Decision Tree con los mejores parámetros\n",
    "best_dt_smote = random_search_dt_smote.best_estimator_\n",
    "\n",
    "# Realizar predicciones con el modelo entrenado en los datos de prueba\n",
    "y_pred_dt_smote = best_dt_smote.predict(X_testsmote)\n",
    "\n",
    "# Calcular precisión y otros resultados\n",
    "print(\"Accuracy:\", accuracy_score(y_testsmote, y_pred_dt_smote))\n",
    "print(\"\\nClassification Report:\\n\", classification_report(y_testsmote, y_pred_dt_smote))\n",
    "print(\"\\nConfusion Matrix:\\n\", confusion_matrix(y_testsmote, y_pred_dt_smote))"
   ]
  },
  {
   "cell_type": "markdown",
   "metadata": {},
   "source": [
    "## Análisis de Resultados - Decision Tree con SMOTE\n",
    "\n",
    "El modelo Decision Tree con SMOTE obtuvo una precisión general de 87.76%. Sin embargo, el rendimiento en la clase minoritaria (Stroke) fue bajo, con un F1-Score de 0.11. Esto indica que el modelo tiene dificultades para predecir correctamente la clase minoritaria, ya que el F1-Score es una métrica que considera tanto la precisión como el recall, y un valor bajo sugiere que el modelo no está equilibrando bien estas dos métricas para la clase minoritaria."
   ]
  },
  {
   "cell_type": "markdown",
   "metadata": {},
   "source": [
    "## Métricas de Rendimiento de Todos los Modelos\n",
    "\n",
    "A continuación, se presentan las métricas de rendimiento (precisión, recall, F1-score) para cada uno de los modelos evaluados:\n"
   ]
  },
  {
   "cell_type": "code",
   "execution_count": 32,
   "metadata": {},
   "outputs": [
    {
     "data": {
      "image/png": "[encoded data removed]",
      "text/plain": [
       "<Figure size 1400x800 with 1 Axes>"
      ]
     },
     "metadata": {},
     "output_type": "display_data"
    }
   ],
   "source": [
    "import matplotlib.pyplot as plt\n",
    "import seaborn as sns\n",
    "import pandas as pd\n",
    "from sklearn.metrics import accuracy_score, precision_score, recall_score, f1_score\n",
    "\n",
    "# Diccionario para almacenar los resultados de cada modelo\n",
    "model_results = {}\n",
    "\n",
    "# Almacenar los resultados de cada modelo con oversampling\n",
    "model_results['KNN (Oversampling)'] = {\n",
    "    'Accuracy': accuracy_score(y_test, y_pred_knn_oversampling),\n",
    "    'Precision': precision_score(y_test, y_pred_knn_oversampling),\n",
    "    'Recall': recall_score(y_test, y_pred_knn_oversampling),\n",
    "    'F1-Score': f1_score(y_test, y_pred_knn_oversampling)\n",
    "}\n",
    "\n",
    "model_results['Random Forest (Oversampling)'] = {\n",
    "    'Accuracy': accuracy_score(y_test, y_pred_rf_oversampling),\n",
    "    'Precision': precision_score(y_test, y_pred_rf_oversampling),\n",
    "    'Recall': recall_score(y_test, y_pred_rf_oversampling),\n",
    "    'F1-Score': f1_score(y_test, y_pred_rf_oversampling)\n",
    "}\n",
    "\n",
    "model_results['XGBoost (Oversampling)'] = {\n",
    "    'Accuracy': accuracy_score(y_test, y_pred_xgb_oversampling),\n",
    "    'Precision': precision_score(y_test, y_pred_xgb_oversampling),\n",
    "    'Recall': recall_score(y_test, y_pred_xgb_oversampling),\n",
    "    'F1-Score': f1_score(y_test, y_pred_xgb_oversampling)\n",
    "}\n",
    "\n",
    "model_results['Decision Tree (Oversampling)'] = {\n",
    "    'Accuracy': accuracy_score(y_test, y_pred_dt_oversampling),\n",
    "    'Precision': precision_score(y_test, y_pred_dt_oversampling),\n",
    "    'Recall': recall_score(y_test, y_pred_dt_oversampling),\n",
    "    'F1-Score': f1_score(y_test, y_pred_dt_oversampling),\n",
    "}\n",
    "\n",
    "model_results['Logistic Regression (Oversampling)'] = {\n",
    "    'Accuracy': accuracy_score(y_test, y_pred_log_reg_oversampling),\n",
    "    'Precision': precision_score(y_test, y_pred_log_reg_oversampling),\n",
    "    'Recall': recall_score(y_test, y_pred_log_reg_oversampling),\n",
    "    'F1-Score': f1_score(y_test, y_pred_log_reg_oversampling)\n",
    "}\n",
    "\n",
    "# Almacenar los resultados de cada modelo con SMOTE\n",
    "model_results['KNN (SMOTE)'] = {\n",
    "    'Accuracy': accuracy_score(y_testsmote, y_pred_knn_smote),\n",
    "    'Precision': precision_score(y_testsmote, y_pred_knn_smote),\n",
    "    'Recall': recall_score(y_testsmote, y_pred_knn_smote),\n",
    "    'F1-Score': f1_score(y_testsmote, y_pred_knn_smote)\n",
    "}\n",
    "\n",
    "model_results['Random Forest (SMOTE)'] = {\n",
    "    'Accuracy': accuracy_score(y_testsmote, y_pred_rf_smote),\n",
    "    'Precision': precision_score(y_testsmote, y_pred_rf_smote),\n",
    "    'Recall': recall_score(y_testsmote, y_pred_rf_smote),\n",
    "    'F1-Score': f1_score(y_testsmote, y_pred_rf_smote)\n",
    "}\n",
    "\n",
    "model_results['XGBoost (SMOTE)'] = {\n",
    "    'Accuracy': accuracy_score(y_testsmote, y_pred_xgb_smote),\n",
    "    'Precision': precision_score(y_testsmote, y_pred_xgb_smote),\n",
    "    'Recall': recall_score(y_testsmote, y_pred_xgb_smote),\n",
    "    'F1-Score': f1_score(y_testsmote, y_pred_xgb_smote)\n",
    "}\n",
    "\n",
    "model_results['Decision Tree (SMOTE)'] = {\n",
    "    'Accuracy': accuracy_score(y_testsmote, y_pred_dt_smote),\n",
    "    'Precision': precision_score(y_testsmote, y_pred_dt_smote),\n",
    "    'Recall': recall_score(y_testsmote, y_pred_dt_smote),\n",
    "    'F1-Score': f1_score(y_testsmote, y_pred_dt_smote)\n",
    "}\n",
    "\n",
    "model_results['Logistic Regression (SMOTE)'] = {\n",
    "    'Accuracy': accuracy_score(y_testsmote, y_pred_log_reg_smote),\n",
    "    'Precision': precision_score(y_testsmote, y_pred_log_reg_smote),\n",
    "    'Recall': recall_score(y_testsmote, y_pred_log_reg_smote),\n",
    "    'F1-Score': f1_score(y_testsmote, y_pred_log_reg_smote)\n",
    "}\n",
    "\n",
    "# Convertir los resultados del diccionario a un DataFrame\n",
    "results_df = pd.DataFrame(model_results).T.reset_index().rename(columns={'index': 'Model'})\n",
    "\n",
    "# Transformar los datos para mejor visualización\n",
    "results_long = pd.melt(results_df, id_vars='Model', var_name='Metric', value_name='Score')\n",
    "\n",
    "# Crear el gráfico comparativo\n",
    "plt.figure(figsize=(14, 8))\n",
    "sns.barplot(x='Model', y='Score', hue='Metric', data=results_long)\n",
    "plt.title('Comparación de Modelos con Oversampling y SMOTE')\n",
    "plt.ylabel('Score')\n",
    "plt.xlabel('Model')\n",
    "plt.legend(loc='best')\n",
    "plt.xticks(rotation=45)\n",
    "plt.show()"
   ]
  },
  {
   "cell_type": "code",
   "execution_count": 33,
   "metadata": {},
   "outputs": [
    {
     "name": "stdout",
     "output_type": "stream",
     "text": [
      "                                Model  Accuracy  Precision  Recall  F1-Score\n",
      "0                  KNN (Oversampling)  0.916830   0.111111    0.10  0.105263\n",
      "1        Random Forest (Oversampling)  0.942270   0.000000    0.00  0.000000\n",
      "2              XGBoost (Oversampling)  0.926614   0.142857    0.10  0.117647\n",
      "3        Decision Tree (Oversampling)  0.911937   0.166667    0.20  0.181818\n",
      "4  Logistic Regression (Oversampling)  0.721135   0.126984    0.80  0.219178\n",
      "5                         KNN (SMOTE)  0.886497   0.107143    0.18  0.134328\n",
      "6               Random Forest (SMOTE)  0.913894   0.120000    0.12  0.120000\n",
      "7                     XGBoost (SMOTE)  0.920744   0.170213    0.16  0.164948\n",
      "8               Decision Tree (SMOTE)  0.877691   0.087912    0.16  0.113475\n",
      "9         Logistic Regression (SMOTE)  0.844423   0.165644    0.54  0.253521\n"
     ]
    }
   ],
   "source": [
    "import pandas as pd\n",
    "from sklearn.metrics import accuracy_score, precision_score, recall_score, f1_score\n",
    "\n",
    "# Diccionario para almacenar los resultados de cada modelo\n",
    "model_results = {}\n",
    "\n",
    "# Almacenar los resultados de cada modelo con oversampling\n",
    "model_results['KNN (Oversampling)'] = {\n",
    "    'Accuracy': accuracy_score(y_test, y_pred_knn_oversampling),\n",
    "    'Precision': precision_score(y_test, y_pred_knn_oversampling),\n",
    "    'Recall': recall_score(y_test, y_pred_knn_oversampling),\n",
    "    'F1-Score': f1_score(y_test, y_pred_knn_oversampling)\n",
    "}\n",
    "\n",
    "model_results['Random Forest (Oversampling)'] = {\n",
    "    'Accuracy': accuracy_score(y_test, y_pred_rf_oversampling),\n",
    "    'Precision': precision_score(y_test, y_pred_rf_oversampling),\n",
    "    'Recall': recall_score(y_test, y_pred_rf_oversampling),\n",
    "    'F1-Score': f1_score(y_test, y_pred_rf_oversampling)\n",
    "}\n",
    "\n",
    "model_results['XGBoost (Oversampling)'] = {\n",
    "    'Accuracy': accuracy_score(y_test, y_pred_xgb_oversampling),\n",
    "    'Precision': precision_score(y_test, y_pred_xgb_oversampling),\n",
    "    'Recall': recall_score(y_test, y_pred_xgb_oversampling),\n",
    "    'F1-Score': f1_score(y_test, y_pred_xgb_oversampling)\n",
    "}\n",
    "\n",
    "model_results['Decision Tree (Oversampling)'] = {\n",
    "    'Accuracy': accuracy_score(y_test, y_pred_dt_oversampling),\n",
    "    'Precision': precision_score(y_test, y_pred_dt_oversampling),\n",
    "    'Recall': recall_score(y_test, y_pred_dt_oversampling),\n",
    "    'F1-Score': f1_score(y_test, y_pred_dt_oversampling),\n",
    "}\n",
    "\n",
    "model_results['Logistic Regression (Oversampling)'] = {\n",
    "    'Accuracy': accuracy_score(y_test, y_pred_log_reg_oversampling),\n",
    "    'Precision': precision_score(y_test, y_pred_log_reg_oversampling),\n",
    "    'Recall': recall_score(y_test, y_pred_log_reg_oversampling),\n",
    "    'F1-Score': f1_score(y_test, y_pred_log_reg_oversampling)\n",
    "}\n",
    "\n",
    "# Almacenar los resultados de cada modelo con SMOTE\n",
    "model_results['KNN (SMOTE)'] = {\n",
    "    'Accuracy': accuracy_score(y_testsmote, y_pred_knn_smote),\n",
    "    'Precision': precision_score(y_testsmote, y_pred_knn_smote),\n",
    "    'Recall': recall_score(y_testsmote, y_pred_knn_smote),\n",
    "    'F1-Score': f1_score(y_testsmote, y_pred_knn_smote)\n",
    "}\n",
    "\n",
    "model_results['Random Forest (SMOTE)'] = {\n",
    "    'Accuracy': accuracy_score(y_testsmote, y_pred_rf_smote),\n",
    "    'Precision': precision_score(y_testsmote, y_pred_rf_smote),\n",
    "    'Recall': recall_score(y_testsmote, y_pred_rf_smote),\n",
    "    'F1-Score': f1_score(y_testsmote, y_pred_rf_smote)\n",
    "}\n",
    "\n",
    "model_results['XGBoost (SMOTE)'] = {\n",
    "    'Accuracy': accuracy_score(y_testsmote, y_pred_xgb_smote),\n",
    "    'Precision': precision_score(y_testsmote, y_pred_xgb_smote),\n",
    "    'Recall': recall_score(y_testsmote, y_pred_xgb_smote),\n",
    "    'F1-Score': f1_score(y_testsmote, y_pred_xgb_smote)\n",
    "}\n",
    "\n",
    "model_results['Decision Tree (SMOTE)'] = {\n",
    "    'Accuracy': accuracy_score(y_testsmote, y_pred_dt_smote),\n",
    "    'Precision': precision_score(y_testsmote, y_pred_dt_smote),\n",
    "    'Recall': recall_score(y_testsmote, y_pred_dt_smote),\n",
    "    'F1-Score': f1_score(y_testsmote, y_pred_dt_smote)\n",
    "}\n",
    "\n",
    "model_results['Logistic Regression (SMOTE)'] = {\n",
    "    'Accuracy': accuracy_score(y_testsmote, y_pred_log_reg_smote),\n",
    "    'Precision': precision_score(y_testsmote, y_pred_log_reg_smote),\n",
    "    'Recall': recall_score(y_testsmote, y_pred_log_reg_smote),\n",
    "    'F1-Score': f1_score(y_testsmote, y_pred_log_reg_smote)\n",
    "}\n",
    "\n",
    "# Convertir los resultados del diccionario a un DataFrame\n",
    "results_df = pd.DataFrame(model_results).T.reset_index().rename(columns={'index': 'Model'})\n",
    "\n",
    "# Mostrar el DataFrame\n",
    "print(results_df)"
   ]
  },
  {
   "cell_type": "code",
   "execution_count": 34,
   "metadata": {},
   "outputs": [
    {
     "data": {
      "image/png": "[encoded data removed]",
      "text/plain": [
       "<Figure size 713.5x1500 with 10 Axes>"
      ]
     },
     "metadata": {},
     "output_type": "display_data"
    }
   ],
   "source": [
    "import matplotlib.pyplot as plt\n",
    "import seaborn as sns\n",
    "import pandas as pd\n",
    "\n",
    "# Datos de rendimiento de los modelos\n",
    "data = {\n",
    "    'Model': [\n",
    "        'KNN (Oversampling)', 'Random Forest (Oversampling)', 'XGBoost (Oversampling)', 'Decision Tree (Oversampling)', 'Logistic Regression (Oversampling)',\n",
    "        'KNN (SMOTE)', 'Random Forest (SMOTE)', 'XGBoost (SMOTE)', 'Decision Tree (SMOTE)', 'Logistic Regression (SMOTE)'\n",
    "    ],\n",
    "    'Accuracy': [\n",
    "        0.916830, 0.945205, 0.929550, 0.913894, 0.721135,\n",
    "        0.896282, 0.927593, 0.925636, 0.888454, 0.831703\n",
    "    ],\n",
    "    'Precision': [\n",
    "        0.111111, 0.125000, 0.176471, 0.172414, 0.126984,\n",
    "        0.141026, 0.214286, 0.204545, 0.119048, 0.128049\n",
    "    ],\n",
    "    'Recall': [\n",
    "        0.10, 0.02, 0.12, 0.20, 0.80,\n",
    "        0.22, 0.18, 0.18, 0.20, 0.42\n",
    "    ],\n",
    "    'F1-Score': [\n",
    "        0.105263, 0.034483, 0.142857, 0.185185, 0.219178,\n",
    "        0.171875, 0.195652, 0.191489, 0.149254, 0.196262\n",
    "    ]\n",
    "}\n",
    "\n",
    "# Convertir los datos a un DataFrame\n",
    "results_df = pd.DataFrame(data)\n",
    "\n",
    "# Transformar los datos para mejor visualización\n",
    "results_long = pd.melt(results_df, id_vars='Model', var_name='Metric', value_name='Score')\n",
    "\n",
    "# Crear una cuadrícula de gráficos para cada modelo\n",
    "g = sns.FacetGrid(results_long, col='Model', hue='Metric', margin_titles=True, col_wrap=2)\n",
    "g.map(sns.scatterplot, 'Metric', 'Score', s=100)\n",
    "g.add_legend()\n",
    "\n",
    "# Ajustar títulos\n",
    "g.set_titles(col_template=\"{col_name}\")\n",
    "\n",
    "# Ajustar etiquetas del eje x\n",
    "for ax in g.axes.flat:\n",
    "    for label in ax.get_xticklabels():\n",
    "        label.set_rotation(45)\n",
    "        label.set_horizontalalignment('right')\n",
    "\n",
    "# Mostrar el gráfico\n",
    "plt.show()"
   ]
  },
  {
   "cell_type": "markdown",
   "metadata": {},
   "source": [
    "## Conclusión Final\n",
    "\n",
    "En este proyecto, hemos evaluado varios algoritmos de Machine Learning, incluyendo Random Forest, XGBoost, K-Nearest Neighbors y Regresión Logística, utilizando técnicas de balanceo de clases como SMOTE y Oversampling para predecir la probabilidad de que un paciente sufra un accidente cerebrovascular.\n",
    "\n",
    "### Resultados Generales\n",
    "\n",
    "A pesar de nuestros esfuerzos, los modelos no han mostrado consistencia en la predicción de la clase minoritaria (Stroke). La precisión y el recall para la clase minoritaria siguen siendo bajos, lo que indica que los modelos tienen dificultades para predecir correctamente los casos de accidente cerebrovascular.\n",
    "\n",
    "### Análisis de los Modelos\n",
    "\n",
    "- **Random Forest (SMOTE)**:\n",
    "  - **Accuracy**: 91.38%\n",
    "  - **Precision**: 0.21\n",
    "  - **Recall**: 0.18\n",
    "  - **F1-Score**: 0.12\n",
    "\n",
    "- **XGBoost (SMOTE)**:\n",
    "  - **Accuracy**: 92.07%\n",
    "  - **Precision**: 0.20\n",
    "  - **Recall**: 0.18\n",
    "  - **F1-Score**: 0.16\n",
    "\n",
    "- **Logistic Regression (SMOTE)**:\n",
    "  - **Accuracy**: 84.44%\n",
    "  - **Precision**: 0.13\n",
    "  - **Recall**: 0.42\n",
    "  - **F1-Score**: 0.25\n",
    "\n",
    "- **KNN (SMOTE)**:\n",
    "  - **Accuracy**: 88.64%\n",
    "  - **Precision**: 0.14\n",
    "  - **Recall**: 0.22\n",
    "  - **F1-Score**: 0.13\n",
    "\n",
    "- **Decision Tree (SMOTE)**:\n",
    "  - **Accuracy**: 87.76%\n",
    "  - **Precision**: 0.12\n",
    "  - **Recall**: 0.20\n",
    "  - **F1-Score**: 0.11\n",
    "\n",
    "### Mejor Modelo\n",
    "\n",
    "El modelo **Logistic Regression (SMOTE)** parece ser el mejor modelo en términos de balance entre precisión, recall y F1-Score. Aunque **Random Forest (SMOTE)** y **XGBoost (SMOTE)** tienen una mayor precisión general, **Logistic Regression (SMOTE)** ofrece un mejor recall y F1-Score, lo que lo hace más efectivo para identificar la clase minoritaria (Stroke).\n",
    "\n",
    "### Conclusiones\n",
    "\n",
    "Aunque los modelos evaluados tienen un buen rendimiento general, su capacidad para predecir la clase minoritaria (Stroke) fue limitada. Esto se refleja en la baja precisión, recall y F1-score para la clase 1 (Stroke) en todos los modelos evaluados.\n",
    "\n",
    "### Próximos Pasos\n",
    "\n",
    "Para mejorar el rendimiento en la clase minoritaria, se pueden considerar las siguientes estrategias:\n",
    "- **Ajustar el umbral de decisión**: Modificar el umbral de probabilidad para clasificar una instancia como clase 1.\n",
    "- **Técnicas de balanceo de clases adicionales**: Explorar técnicas como SMOTE combinado con Tomek Links o SMOTEENN para generar más ejemplos sintéticos de la clase minoritaria y eliminar ejemplos ruidosos.\n",
    "- **Modelos más avanzados**: Probar modelos más avanzados como redes neuronales profundas o ensamblajes de modelos.\n",
    "\n",
    "En resumen, aunque los modelos evaluados tienen un buen rendimiento general, es necesario abordar el desbalanceo de clases para mejorar la predicción de la clase minoritaria (Stroke). Debido a esta falta de consistencia en la predicción de la clase minoritaria, no recomendamos continuar con este proyecto ni llevarlo a producción en su estado actual. Sin embargo, continuaremos trabajando en este proyecto con fines educativos, explorando nuevas técnicas y enfoques para mejorar el rendimiento de los modelos."
   ]
  },
  {
   "cell_type": "markdown",
   "metadata": {},
   "source": [
    "## Entrenamiento y Preparación del Modelo Final para Producción\n",
    "\n",
    "En esta sección, seleccionaremos el mejor modelo basado en los resultados anteriores, entrenaremos el modelo con todos los datos disponibles y prepararemos el modelo para su despliegue en producción.\n",
    "\n",
    "### Selección del Mejor Modelo\n",
    "\n",
    "Basado en los resultados anteriores, seleccionamos el modelo **Logistic Regression (SMOTE)** como el mejor modelo debido a su balance entre precisión, recall y F1-Score.\n",
    "\n",
    "### Entrenamiento del Modelo Final\n",
    "\n",
    "Entrenaremos el modelo **Logistic Regression (SMOTE)** utilizando todos los datos disponibles y los mejores hiperparámetros encontrados durante la búsqueda de hiperparámetros."
   ]
  },
  {
   "cell_type": "code",
   "execution_count": null,
   "metadata": {},
   "outputs": [],
   "source": [
    "import joblib\n",
    "from sklearn.linear_model import LogisticRegression\n",
    "from imblearn.over_sampling import SMOTE\n",
    "\n",
    "# Usar las variables preprocesadas directamente\n",
    "X = features  # Características preprocesadas\n",
    "y = target    # Etiquetas preprocesadas\n",
    "\n",
    "# Aplicar SMOTE para balancear las clases\n",
    "smote = SMOTE(random_state=42)\n",
    "X_smote, y_smote = smote.fit_resample(X, y)\n",
    "\n",
    "# Crear el modelo Logistic Regression con los mejores hiperparámetros\n",
    "best_params = {'C': 1.0, 'solver': 'lbfgs', 'max_iter': 100}  # Ajusta estos parámetros según los mejores encontrados\n",
    "model = LogisticRegression(**best_params, random_state=42)\n",
    "\n",
    "# Entrenar el modelo con todos los datos disponibles\n",
    "model.fit(X_smote, y_smote)\n",
    "\n",
    "# Guardar el modelo entrenado para su despliegue\n",
    "joblib.dump(model, 'logistic_regression_smote_model.pkl')"
   ]
  },
  {
   "cell_type": "markdown",
   "metadata": {},
   "source": [
    "### Preparación del Modelo para Despliegue\n",
    "\n",
    "El modelo entrenado se ha guardado en un archivo `logistic_regression_smote_model.pkl` utilizando la biblioteca `joblib`. Este archivo puede ser cargado y utilizado para realizar predicciones en un entorno de producción.\n",
    "\n",
    "### Código para Cargar y Utilizar el Modelo en Producción\n",
    "\n",
    "A continuación se muestra un ejemplo de cómo cargar el modelo guardado y utilizarlo para realizar predicciones en nuevos datos."
   ]
  },
  {
   "cell_type": "code",
   "execution_count": null,
   "metadata": {},
   "outputs": [],
   "source": [
    "import joblib\n",
    "import pandas as pd\n",
    "\n",
    "# Cargar el modelo guardado\n",
    "model = joblib.load('random_forest_smote_model.pkl')\n",
    "\n",
    "# Función para solicitar los datos del paciente\n",
    "def get_patient_data():\n",
    "    data = {}\n",
    "    data['age'] = float(input(\"Ingrese la edad del paciente: \"))\n",
    "    data['hypertension'] = int(input(\"¿El paciente tiene hipertensión? (1 para Sí, 0 para No): \"))\n",
    "    data['heart_disease'] = int(input(\"¿El paciente tiene enfermedad cardíaca? (1 para Sí, 0 para No): \"))\n",
    "    data['avg_glucose_level'] = float(input(\"Ingrese el nivel promedio de glucosa del paciente: \"))\n",
    "    data['bmi'] = float(input(\"Ingrese el índice de masa corporal (BMI) del paciente: \"))\n",
    "    data['gender_Male'] = int(input(\"¿El paciente es masculino? (1 para Sí, 0 para No): \"))\n",
    "    data['ever_married_Yes'] = int(input(\"¿El paciente alguna vez se ha casado? (1 para Sí, 0 para No): \"))\n",
    "    data['work_type_Never_worked'] = int(input(\"¿El paciente nunca ha trabajado? (1 para Sí, 0 para No): \"))\n",
    "    data['work_type_Private'] = int(input(\"¿El paciente trabaja en el sector privado? (1 para Sí, 0 para No): \"))\n",
    "    data['work_type_Self-employed'] = int(input(\"¿El paciente es autónomo? (1 para Sí, 0 para No): \"))\n",
    "    data['work_type_children'] = int(input(\"¿El paciente es un niño? (1 para Sí, 0 para No): \"))\n",
    "    data['Residence_type_Urban'] = int(input(\"¿El paciente vive en una zona urbana? (1 para Sí, 0 para No): \"))\n",
    "    data['smoking_status_formerly smoked'] = int(input(\"¿El paciente fumaba anteriormente? (1 para Sí, 0 para No): \"))\n",
    "    data['smoking_status_never smoked'] = int(input(\"¿El paciente nunca ha fumado? (1 para Sí, 0 para No): \"))\n",
    "    data['smoking_status_smokes'] = int(input(\"¿El paciente fuma actualmente? (1 para Sí, 0 para No): \"))\n",
    "    \n",
    "    return pd.DataFrame([data])\n",
    "\n",
    "# Solicitar los datos del paciente\n",
    "patient_data = get_patient_data()\n",
    "\n",
    "# Realizar predicciones con el modelo cargado\n",
    "prediction = model.predict(patient_data)\n",
    "\n",
    "# Mostrar las predicciones\n",
    "if prediction[0] == 1:\n",
    "    print(\"El paciente tiene un riesgo de sufrir un accidente cerebrovascular.\")\n",
    "else:\n",
    "    print(\"El paciente no tiene un riesgo significativo de sufrir un accidente cerebrovascular.\")"
   ]
  }
 ],
 "metadata": {
  "kernelspec": {
   "display_name": "base",
   "language": "python",
   "name": "python3"
  },
  "language_info": {
   "codemirror_mode": {
    "name": "ipython",
    "version": 3
   },
   "file_extension": ".py",
   "mimetype": "text/x-python",
   "name": "python",
   "nbconvert_exporter": "python",
   "pygments_lexer": "ipython3",
   "version": "3.12.3"
  }
 },
 "nbformat": 4,
 "nbformat_minor": 2
}
