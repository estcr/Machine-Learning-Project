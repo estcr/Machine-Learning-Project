{
 "cells": [
  {
   "cell_type": "markdown",
   "metadata": {},
   "source": [
    "## Entrenamiento y Preparación del Modelo Final para Producción\n",
    "\n",
    "En esta sección, seleccionaremos el mejor modelo basado en los resultados anteriores, entrenaremos el modelo con todos los datos disponibles y prepararemos el modelo para su despliegue en producción.\n",
    "\n",
    "### Selección del Mejor Modelo\n",
    "\n",
    "Basado en los resultados anteriores, seleccionamos el modelo **Random Forest (SMOTE)** como el mejor modelo debido a su balance entre precisión, recall y F1-Score.\n",
    "\n",
    "### Entrenamiento del Modelo Final\n",
    "\n",
    "Entrenaremos el modelo **Random Forest (SMOTE)** utilizando todos los datos disponibles y los mejores hiperparámetros encontrados durante la búsqueda de hiperparámetros."
   ]
  },
  {
   "cell_type": "code",
   "execution_count": null,
   "metadata": {
    "vscode": {
     "languageId": "plaintext"
    }
   },
   "outputs": [],
   "source": [
    "import joblib\n",
    "from sklearn.ensemble import RandomForestClassifier\n",
    "from imblearn.over_sampling import SMOTE\n",
    "\n",
    "# Usar las variables preprocesadas directamente\n",
    "X = features  # Características preprocesadas\n",
    "y = target    # Etiquetas preprocesadas\n",
    "\n",
    "# Aplicar SMOTE para balancear las clases\n",
    "smote = SMOTE(random_state=42)\n",
    "X_smote, y_smote = smote.fit_resample(X, y)\n",
    "\n",
    "# Crear el modelo Random Forest con los mejores hiperparámetros\n",
    "best_params = {'max_depth': 20, 'n_estimators': 187}\n",
    "model = RandomForestClassifier(**best_params, random_state=42)\n",
    "\n",
    "# Entrenar el modelo con todos los datos disponibles\n",
    "model.fit(X_smote, y_smote)\n",
    "\n",
    "# Guardar el modelo entrenado para su despliegue\n",
    "joblib.dump(model, 'random_forest_smote_model.pkl')"
   ]
  },
  {
   "cell_type": "markdown",
   "metadata": {},
   "source": [
    "### Preparación del Modelo para Despliegue\n",
    "\n",
    "El modelo entrenado se ha guardado en un archivo `random_forest_smote_model.pkl` utilizando la biblioteca `joblib`. Este archivo puede ser cargado y utilizado para realizar predicciones en un entorno de producción.\n",
    "\n",
    "### Código para Cargar y Utilizar el Modelo en Producción\n",
    "\n",
    "A continuación se muestra un ejemplo de cómo cargar el modelo guardado y utilizarlo para realizar predicciones en nuevos datos."
   ]
  },
  {
   "cell_type": "code",
   "execution_count": null,
   "metadata": {
    "vscode": {
     "languageId": "plaintext"
    }
   },
   "outputs": [],
   "source": [
    "import joblib\n",
    "import pandas as pd\n",
    "\n",
    "# Cargar el modelo guardado\n",
    "model = joblib.load('random_forest_smote_model.pkl')\n",
    "\n",
    "# Función para solicitar los datos del paciente\n",
    "def get_patient_data():\n",
    "    data = {}\n",
    "    data['age'] = float(input(\"Ingrese la edad del paciente: \"))\n",
    "    data['hypertension'] = int(input(\"¿El paciente tiene hipertensión? (1 para Sí, 0 para No): \"))\n",
    "    data['heart_disease'] = int(input(\"¿El paciente tiene enfermedad cardíaca? (1 para Sí, 0 para No): \"))\n",
    "    data['avg_glucose_level'] = float(input(\"Ingrese el nivel promedio de glucosa del paciente: \"))\n",
    "    data['bmi'] = float(input(\"Ingrese el índice de masa corporal (BMI) del paciente: \"))\n",
    "    data['gender_Male'] = int(input(\"¿El paciente es masculino? (1 para Sí, 0 para No): \"))\n",
    "    data['ever_married_Yes'] = int(input(\"¿El paciente alguna vez se ha casado? (1 para Sí, 0 para No): \"))\n",
    "    data['work_type_Never_worked'] = int(input(\"¿El paciente nunca ha trabajado? (1 para Sí, 0 para No): \"))\n",
    "    data['work_type_Private'] = int(input(\"¿El paciente trabaja en el sector privado? (1 para Sí, 0 para No): \"))\n",
    "    data['work_type_Self-employed'] = int(input(\"¿El paciente es autónomo? (1 para Sí, 0 para No): \"))\n",
    "    data['work_type_children'] = int(input(\"¿El paciente es un niño? (1 para Sí, 0 para No): \"))\n",
    "    data['Residence_type_Urban'] = int(input(\"¿El paciente vive en una zona urbana? (1 para Sí, 0 para No): \"))\n",
    "    data['smoking_status_formerly smoked'] = int(input(\"¿El paciente fumaba anteriormente? (1 para Sí, 0 para No): \"))\n",
    "    data['smoking_status_never smoked'] = int(input(\"¿El paciente nunca ha fumado? (1 para Sí, 0 para No): \"))\n",
    "    data['smoking_status_smokes'] = int(input(\"¿El paciente fuma actualmente? (1 para Sí, 0 para No): \"))\n",
    "    \n",
    "    return pd.DataFrame([data])\n",
    "\n",
    "# Solicitar los datos del paciente\n",
    "patient_data = get_patient_data()\n",
    "\n",
    "# Realizar predicciones con el modelo cargado\n",
    "prediction = model.predict(patient_data)\n",
    "\n",
    "# Mostrar las predicciones\n",
    "if prediction[0] == 1:\n",
    "    print(\"El paciente tiene un riesgo de sufrir un accidente cerebrovascular.\")\n",
    "else:\n",
    "    print(\"El paciente no tiene un riesgo significativo de sufrir un accidente cerebrovascular.\")vvvvvvvvvvvvvvvv"
   ]
  }
 ],
 "metadata": {
  "language_info": {
   "name": "python"
  }
 },
 "nbformat": 4,
 "nbformat_minor": 2
}
